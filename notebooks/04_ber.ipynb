{
 "cells": [
  {
   "cell_type": "markdown",
   "metadata": {},
   "source": [
    "# Imports"
   ]
  },
  {
   "cell_type": "code",
   "execution_count": 1271,
   "metadata": {},
   "outputs": [],
   "source": [
    "import pickle\n",
    "import pathlib\n",
    "\n",
    "import numpy as np\n",
    "import pandas as pd\n",
    "\n",
    "from sklearn.model_selection import train_test_split\n",
    "from sklearn.linear_model import LinearRegression\n",
    "from sklearn.metrics import mean_squared_error\n",
    "\n",
    "from sklearn.preprocessing import StandardScaler\n",
    "from sklearn.model_selection import train_test_split\n",
    "from sklearn.linear_model import LinearRegression, Ridge, Lasso\n",
    "from sklearn.metrics import mean_squared_error\n",
    "from sklearn.linear_model import Ridge\n",
    "from sklearn.model_selection import GridSearchCV\n",
    "from sklearn.linear_model import Lasso\n",
    "from sklearn.linear_model import ElasticNet\n",
    "from sklearn.linear_model import ElasticNetCV\n",
    "from sklearn.metrics import mean_squared_error, r2_score"
   ]
  },
  {
   "cell_type": "markdown",
   "metadata": {},
   "source": [
    "## Tratamento de dados feito pelo professor"
   ]
  },
  {
   "cell_type": "code",
   "execution_count": 1272,
   "metadata": {},
   "outputs": [
    {
     "name": "stdout",
     "output_type": "stream",
     "text": [
      "c:\\Users\\Eduardo\\Desktop\\Insper\\4 semestre\\ml\\Projeto-ML\\ames\\data\n"
     ]
    }
   ],
   "source": [
    "DATA_DIR = pathlib.Path.cwd().parent / 'data'\n",
    "print(DATA_DIR)"
   ]
  },
  {
   "cell_type": "code",
   "execution_count": 1273,
   "metadata": {},
   "outputs": [],
   "source": [
    "clean_data_path = DATA_DIR / 'processed' / 'ames_clean.pkl'"
   ]
  },
  {
   "cell_type": "code",
   "execution_count": 1274,
   "metadata": {},
   "outputs": [],
   "source": [
    "with open(clean_data_path, 'rb') as file:\n",
    "    data = pickle.load(file)"
   ]
  },
  {
   "cell_type": "code",
   "execution_count": 1275,
   "metadata": {},
   "outputs": [],
   "source": [
    "model_data = data.copy()"
   ]
  },
  {
   "cell_type": "code",
   "execution_count": 1276,
   "metadata": {},
   "outputs": [],
   "source": [
    "categorical_columns = []\n",
    "ordinal_columns = []\n",
    "for col in model_data.select_dtypes('category').columns:\n",
    "    if model_data[col].cat.ordered:\n",
    "        ordinal_columns.append(col)\n",
    "    else:\n",
    "        categorical_columns.append(col)"
   ]
  },
  {
   "cell_type": "code",
   "execution_count": 1277,
   "metadata": {},
   "outputs": [
    {
     "data": {
      "text/plain": [
       "['Lot.Shape',\n",
       " 'Land.Slope',\n",
       " 'Overall.Qual',\n",
       " 'Overall.Cond',\n",
       " 'Exter.Qual',\n",
       " 'Exter.Cond',\n",
       " 'Heating.QC',\n",
       " 'Electrical',\n",
       " 'Kitchen.Qual',\n",
       " 'Functional',\n",
       " 'Paved.Drive',\n",
       " 'Fence']"
      ]
     },
     "execution_count": 1277,
     "metadata": {},
     "output_type": "execute_result"
    }
   ],
   "source": [
    "ordinal_columns"
   ]
  },
  {
   "cell_type": "code",
   "execution_count": 1278,
   "metadata": {},
   "outputs": [
    {
     "data": {
      "text/plain": [
       "['MS.SubClass',\n",
       " 'MS.Zoning',\n",
       " 'Land.Contour',\n",
       " 'Lot.Config',\n",
       " 'Neighborhood',\n",
       " 'Bldg.Type',\n",
       " 'House.Style',\n",
       " 'Roof.Style',\n",
       " 'Mas.Vnr.Type',\n",
       " 'Foundation',\n",
       " 'Bsmt.Qual',\n",
       " 'Bsmt.Cond',\n",
       " 'Bsmt.Exposure',\n",
       " 'BsmtFin.Type.1',\n",
       " 'BsmtFin.Type.2',\n",
       " 'Central.Air',\n",
       " 'Garage.Type',\n",
       " 'Garage.Finish',\n",
       " 'Sale.Type',\n",
       " 'Sale.Condition',\n",
       " 'Condition',\n",
       " 'Exterior']"
      ]
     },
     "execution_count": 1278,
     "metadata": {},
     "output_type": "execute_result"
    }
   ],
   "source": [
    "categorical_columns"
   ]
  },
  {
   "cell_type": "code",
   "execution_count": 1279,
   "metadata": {},
   "outputs": [],
   "source": [
    "for col in ordinal_columns:\n",
    "    codes, _ = pd.factorize(data[col], sort=True)\n",
    "    model_data[col] = codes"
   ]
  },
  {
   "cell_type": "code",
   "execution_count": 1280,
   "metadata": {},
   "outputs": [
    {
     "name": "stdout",
     "output_type": "stream",
     "text": [
      "<class 'pandas.core.frame.DataFrame'>\n",
      "Int64Index: 2877 entries, 0 to 2929\n",
      "Data columns (total 12 columns):\n",
      " #   Column        Non-Null Count  Dtype\n",
      "---  ------        --------------  -----\n",
      " 0   Lot.Shape     2877 non-null   int64\n",
      " 1   Land.Slope    2877 non-null   int64\n",
      " 2   Overall.Qual  2877 non-null   int64\n",
      " 3   Overall.Cond  2877 non-null   int64\n",
      " 4   Exter.Qual    2877 non-null   int64\n",
      " 5   Exter.Cond    2877 non-null   int64\n",
      " 6   Heating.QC    2877 non-null   int64\n",
      " 7   Electrical    2877 non-null   int64\n",
      " 8   Kitchen.Qual  2877 non-null   int64\n",
      " 9   Functional    2877 non-null   int64\n",
      " 10  Paved.Drive   2877 non-null   int64\n",
      " 11  Fence         2877 non-null   int64\n",
      "dtypes: int64(12)\n",
      "memory usage: 292.2 KB\n"
     ]
    }
   ],
   "source": [
    "model_data[ordinal_columns].info()"
   ]
  },
  {
   "cell_type": "code",
   "execution_count": 1281,
   "metadata": {},
   "outputs": [
    {
     "data": {
      "text/plain": [
       "Reg    1825\n",
       "IR1     960\n",
       "IR2      76\n",
       "IR3      16\n",
       "Name: Lot.Shape, dtype: int64"
      ]
     },
     "execution_count": 1281,
     "metadata": {},
     "output_type": "execute_result"
    }
   ],
   "source": [
    "data['Lot.Shape'].value_counts()"
   ]
  },
  {
   "cell_type": "code",
   "execution_count": 1282,
   "metadata": {},
   "outputs": [
    {
     "data": {
      "text/plain": [
       "0    1825\n",
       "1     960\n",
       "2      76\n",
       "3      16\n",
       "Name: Lot.Shape, dtype: int64"
      ]
     },
     "execution_count": 1282,
     "metadata": {},
     "output_type": "execute_result"
    }
   ],
   "source": [
    "model_data['Lot.Shape'].value_counts()"
   ]
  },
  {
   "cell_type": "code",
   "execution_count": 1283,
   "metadata": {},
   "outputs": [
    {
     "data": {
      "text/plain": [
       "VinylSd    1024\n",
       "HdBoard     439\n",
       "MetalSd     432\n",
       "Wd Sdng     401\n",
       "Plywood     218\n",
       "CemntBd     126\n",
       "BrkFace      86\n",
       "WdShing      55\n",
       "Stucco       42\n",
       "AsbShng      41\n",
       "Other        13\n",
       "Name: Exterior, dtype: int64"
      ]
     },
     "execution_count": 1283,
     "metadata": {},
     "output_type": "execute_result"
    }
   ],
   "source": [
    "model_data['Exterior'].value_counts()"
   ]
  },
  {
   "cell_type": "code",
   "execution_count": 1284,
   "metadata": {},
   "outputs": [
    {
     "data": {
      "text/html": [
       "<div>\n",
       "<style scoped>\n",
       "    .dataframe tbody tr th:only-of-type {\n",
       "        vertical-align: middle;\n",
       "    }\n",
       "\n",
       "    .dataframe tbody tr th {\n",
       "        vertical-align: top;\n",
       "    }\n",
       "\n",
       "    .dataframe thead th {\n",
       "        text-align: right;\n",
       "    }\n",
       "</style>\n",
       "<table border=\"1\" class=\"dataframe\">\n",
       "  <thead>\n",
       "    <tr style=\"text-align: right;\">\n",
       "      <th></th>\n",
       "      <th>0</th>\n",
       "      <th>1</th>\n",
       "      <th>2</th>\n",
       "      <th>3</th>\n",
       "      <th>4</th>\n",
       "    </tr>\n",
       "  </thead>\n",
       "  <tbody>\n",
       "    <tr>\n",
       "      <th>AsbShng</th>\n",
       "      <td>0</td>\n",
       "      <td>0</td>\n",
       "      <td>0</td>\n",
       "      <td>0</td>\n",
       "      <td>0</td>\n",
       "    </tr>\n",
       "    <tr>\n",
       "      <th>BrkFace</th>\n",
       "      <td>1</td>\n",
       "      <td>0</td>\n",
       "      <td>0</td>\n",
       "      <td>1</td>\n",
       "      <td>0</td>\n",
       "    </tr>\n",
       "    <tr>\n",
       "      <th>CemntBd</th>\n",
       "      <td>0</td>\n",
       "      <td>0</td>\n",
       "      <td>0</td>\n",
       "      <td>0</td>\n",
       "      <td>0</td>\n",
       "    </tr>\n",
       "    <tr>\n",
       "      <th>HdBoard</th>\n",
       "      <td>0</td>\n",
       "      <td>0</td>\n",
       "      <td>0</td>\n",
       "      <td>0</td>\n",
       "      <td>0</td>\n",
       "    </tr>\n",
       "    <tr>\n",
       "      <th>MetalSd</th>\n",
       "      <td>0</td>\n",
       "      <td>0</td>\n",
       "      <td>0</td>\n",
       "      <td>0</td>\n",
       "      <td>0</td>\n",
       "    </tr>\n",
       "    <tr>\n",
       "      <th>Plywood</th>\n",
       "      <td>0</td>\n",
       "      <td>0</td>\n",
       "      <td>0</td>\n",
       "      <td>0</td>\n",
       "      <td>0</td>\n",
       "    </tr>\n",
       "    <tr>\n",
       "      <th>Stucco</th>\n",
       "      <td>0</td>\n",
       "      <td>0</td>\n",
       "      <td>0</td>\n",
       "      <td>0</td>\n",
       "      <td>0</td>\n",
       "    </tr>\n",
       "    <tr>\n",
       "      <th>VinylSd</th>\n",
       "      <td>0</td>\n",
       "      <td>1</td>\n",
       "      <td>0</td>\n",
       "      <td>0</td>\n",
       "      <td>1</td>\n",
       "    </tr>\n",
       "    <tr>\n",
       "      <th>Wd Sdng</th>\n",
       "      <td>0</td>\n",
       "      <td>0</td>\n",
       "      <td>1</td>\n",
       "      <td>0</td>\n",
       "      <td>0</td>\n",
       "    </tr>\n",
       "    <tr>\n",
       "      <th>WdShing</th>\n",
       "      <td>0</td>\n",
       "      <td>0</td>\n",
       "      <td>0</td>\n",
       "      <td>0</td>\n",
       "      <td>0</td>\n",
       "    </tr>\n",
       "    <tr>\n",
       "      <th>Other</th>\n",
       "      <td>0</td>\n",
       "      <td>0</td>\n",
       "      <td>0</td>\n",
       "      <td>0</td>\n",
       "      <td>0</td>\n",
       "    </tr>\n",
       "    <tr>\n",
       "      <th>Exterior</th>\n",
       "      <td>BrkFace</td>\n",
       "      <td>VinylSd</td>\n",
       "      <td>Wd Sdng</td>\n",
       "      <td>BrkFace</td>\n",
       "      <td>VinylSd</td>\n",
       "    </tr>\n",
       "  </tbody>\n",
       "</table>\n",
       "</div>"
      ],
      "text/plain": [
       "                0        1        2        3        4\n",
       "AsbShng         0        0        0        0        0\n",
       "BrkFace         1        0        0        1        0\n",
       "CemntBd         0        0        0        0        0\n",
       "HdBoard         0        0        0        0        0\n",
       "MetalSd         0        0        0        0        0\n",
       "Plywood         0        0        0        0        0\n",
       "Stucco          0        0        0        0        0\n",
       "VinylSd         0        1        0        0        1\n",
       "Wd Sdng         0        0        1        0        0\n",
       "WdShing         0        0        0        0        0\n",
       "Other           0        0        0        0        0\n",
       "Exterior  BrkFace  VinylSd  Wd Sdng  BrkFace  VinylSd"
      ]
     },
     "execution_count": 1284,
     "metadata": {},
     "output_type": "execute_result"
    }
   ],
   "source": [
    "original_data = model_data['Exterior']\n",
    "encoded_data = pd.get_dummies(original_data)\n",
    "\n",
    "aux_dataframe = encoded_data\n",
    "aux_dataframe['Exterior'] = original_data.copy()\n",
    "\n",
    "aux_dataframe.head().transpose()"
   ]
  },
  {
   "cell_type": "code",
   "execution_count": 1285,
   "metadata": {},
   "outputs": [
    {
     "data": {
      "text/html": [
       "<div>\n",
       "<style scoped>\n",
       "    .dataframe tbody tr th:only-of-type {\n",
       "        vertical-align: middle;\n",
       "    }\n",
       "\n",
       "    .dataframe tbody tr th {\n",
       "        vertical-align: top;\n",
       "    }\n",
       "\n",
       "    .dataframe thead th {\n",
       "        text-align: right;\n",
       "    }\n",
       "</style>\n",
       "<table border=\"1\" class=\"dataframe\">\n",
       "  <thead>\n",
       "    <tr style=\"text-align: right;\">\n",
       "      <th></th>\n",
       "      <th>0</th>\n",
       "      <th>1</th>\n",
       "      <th>2</th>\n",
       "      <th>3</th>\n",
       "      <th>4</th>\n",
       "    </tr>\n",
       "  </thead>\n",
       "  <tbody>\n",
       "    <tr>\n",
       "      <th>BrkFace</th>\n",
       "      <td>1</td>\n",
       "      <td>0</td>\n",
       "      <td>0</td>\n",
       "      <td>1</td>\n",
       "      <td>0</td>\n",
       "    </tr>\n",
       "    <tr>\n",
       "      <th>CemntBd</th>\n",
       "      <td>0</td>\n",
       "      <td>0</td>\n",
       "      <td>0</td>\n",
       "      <td>0</td>\n",
       "      <td>0</td>\n",
       "    </tr>\n",
       "    <tr>\n",
       "      <th>HdBoard</th>\n",
       "      <td>0</td>\n",
       "      <td>0</td>\n",
       "      <td>0</td>\n",
       "      <td>0</td>\n",
       "      <td>0</td>\n",
       "    </tr>\n",
       "    <tr>\n",
       "      <th>MetalSd</th>\n",
       "      <td>0</td>\n",
       "      <td>0</td>\n",
       "      <td>0</td>\n",
       "      <td>0</td>\n",
       "      <td>0</td>\n",
       "    </tr>\n",
       "    <tr>\n",
       "      <th>Plywood</th>\n",
       "      <td>0</td>\n",
       "      <td>0</td>\n",
       "      <td>0</td>\n",
       "      <td>0</td>\n",
       "      <td>0</td>\n",
       "    </tr>\n",
       "    <tr>\n",
       "      <th>Stucco</th>\n",
       "      <td>0</td>\n",
       "      <td>0</td>\n",
       "      <td>0</td>\n",
       "      <td>0</td>\n",
       "      <td>0</td>\n",
       "    </tr>\n",
       "    <tr>\n",
       "      <th>VinylSd</th>\n",
       "      <td>0</td>\n",
       "      <td>1</td>\n",
       "      <td>0</td>\n",
       "      <td>0</td>\n",
       "      <td>1</td>\n",
       "    </tr>\n",
       "    <tr>\n",
       "      <th>Wd Sdng</th>\n",
       "      <td>0</td>\n",
       "      <td>0</td>\n",
       "      <td>1</td>\n",
       "      <td>0</td>\n",
       "      <td>0</td>\n",
       "    </tr>\n",
       "    <tr>\n",
       "      <th>WdShing</th>\n",
       "      <td>0</td>\n",
       "      <td>0</td>\n",
       "      <td>0</td>\n",
       "      <td>0</td>\n",
       "      <td>0</td>\n",
       "    </tr>\n",
       "    <tr>\n",
       "      <th>Other</th>\n",
       "      <td>0</td>\n",
       "      <td>0</td>\n",
       "      <td>0</td>\n",
       "      <td>0</td>\n",
       "      <td>0</td>\n",
       "    </tr>\n",
       "    <tr>\n",
       "      <th>Exterior</th>\n",
       "      <td>BrkFace</td>\n",
       "      <td>VinylSd</td>\n",
       "      <td>Wd Sdng</td>\n",
       "      <td>BrkFace</td>\n",
       "      <td>VinylSd</td>\n",
       "    </tr>\n",
       "  </tbody>\n",
       "</table>\n",
       "</div>"
      ],
      "text/plain": [
       "                0        1        2        3        4\n",
       "BrkFace         1        0        0        1        0\n",
       "CemntBd         0        0        0        0        0\n",
       "HdBoard         0        0        0        0        0\n",
       "MetalSd         0        0        0        0        0\n",
       "Plywood         0        0        0        0        0\n",
       "Stucco          0        0        0        0        0\n",
       "VinylSd         0        1        0        0        1\n",
       "Wd Sdng         0        0        1        0        0\n",
       "WdShing         0        0        0        0        0\n",
       "Other           0        0        0        0        0\n",
       "Exterior  BrkFace  VinylSd  Wd Sdng  BrkFace  VinylSd"
      ]
     },
     "execution_count": 1285,
     "metadata": {},
     "output_type": "execute_result"
    }
   ],
   "source": [
    "original_data = model_data['Exterior']\n",
    "encoded_data = pd.get_dummies(original_data, drop_first=True)\n",
    "\n",
    "aux_dataframe = encoded_data\n",
    "aux_dataframe['Exterior'] = original_data.copy()\n",
    "\n",
    "aux_dataframe.head().transpose()"
   ]
  },
  {
   "cell_type": "code",
   "execution_count": 1286,
   "metadata": {},
   "outputs": [],
   "source": [
    "model_data = pd.get_dummies(model_data, drop_first=True)"
   ]
  },
  {
   "cell_type": "code",
   "execution_count": 1287,
   "metadata": {},
   "outputs": [
    {
     "name": "stdout",
     "output_type": "stream",
     "text": [
      "<class 'pandas.core.frame.DataFrame'>\n",
      "Int64Index: 2877 entries, 0 to 2929\n",
      "Columns: 165 entries, Lot.Frontage to Exterior_Other\n",
      "dtypes: bool(2), float64(34), int64(12), uint8(117)\n",
      "memory usage: 1.4 MB\n"
     ]
    }
   ],
   "source": [
    "model_data.info()"
   ]
  },
  {
   "cell_type": "code",
   "execution_count": 1288,
   "metadata": {},
   "outputs": [
    {
     "name": "stdout",
     "output_type": "stream",
     "text": [
      "From column \"MS.SubClass\" we made \"MS.SubClass_30\", \"MS.SubClass_50\", \"MS.SubClass_60\", \"MS.SubClass_70\", \"MS.SubClass_80\", \"MS.SubClass_85\", \"MS.SubClass_90\", \"MS.SubClass_120\", \"MS.SubClass_160\", \"MS.SubClass_190\", \"MS.SubClass_Other\"\n",
      "\n",
      "From column \"MS.Zoning\" we made \"MS.Zoning_RH\", \"MS.Zoning_RL\", \"MS.Zoning_RM\"\n",
      "\n",
      "From column \"Land.Contour\" we made \"Land.Contour_HLS\", \"Land.Contour_Low\", \"Land.Contour_Lvl\"\n",
      "\n",
      "From column \"Lot.Config\" we made \"Lot.Config_CulDSac\", \"Lot.Config_FR2\", \"Lot.Config_FR3\", \"Lot.Config_Inside\"\n",
      "\n",
      "From column \"Neighborhood\" we made \"Neighborhood_BrDale\", \"Neighborhood_BrkSide\", \"Neighborhood_ClearCr\", \"Neighborhood_CollgCr\", \"Neighborhood_Crawfor\", \"Neighborhood_Edwards\", \"Neighborhood_Gilbert\", \"Neighborhood_IDOTRR\", \"Neighborhood_MeadowV\", \"Neighborhood_Mitchel\", \"Neighborhood_NAmes\", \"Neighborhood_NPkVill\", \"Neighborhood_NWAmes\", \"Neighborhood_NoRidge\", \"Neighborhood_NridgHt\", \"Neighborhood_OldTown\", \"Neighborhood_SWISU\", \"Neighborhood_Sawyer\", \"Neighborhood_SawyerW\", \"Neighborhood_Somerst\", \"Neighborhood_StoneBr\", \"Neighborhood_Timber\", \"Neighborhood_Veenker\"\n",
      "\n",
      "From column \"Bldg.Type\" we made \"Bldg.Type_2fmCon\", \"Bldg.Type_Duplex\", \"Bldg.Type_Twnhs\", \"Bldg.Type_TwnhsE\"\n",
      "\n",
      "From column \"House.Style\" we made \"House.Style_1.5Unf\", \"House.Style_1Story\", \"House.Style_2.5Fin\", \"House.Style_2.5Unf\", \"House.Style_2Story\", \"House.Style_SFoyer\", \"House.Style_SLvl\"\n",
      "\n",
      "From column \"Roof.Style\" we made \"Roof.Style_Hip\", \"Roof.Style_Other\"\n",
      "\n",
      "From column \"Mas.Vnr.Type\" we made \"Mas.Vnr.Type_None\", \"Mas.Vnr.Type_Stone\", \"Mas.Vnr.Type_Other\"\n",
      "\n",
      "From column \"Foundation\" we made \"Foundation_CBlock\", \"Foundation_PConc\", \"Foundation_Other\"\n",
      "\n",
      "From column \"Bsmt.Qual\" we made \"Bsmt.Qual_Gd\", \"Bsmt.Qual_TA\", \"Bsmt.Qual_Fa\", \"Bsmt.Qual_NA\"\n",
      "\n",
      "From column \"Bsmt.Cond\" we made \"Bsmt.Cond_TA\", \"Bsmt.Cond_Fa\", \"Bsmt.Cond_NA\"\n",
      "\n",
      "From column \"Bsmt.Exposure\" we made \"Bsmt.Exposure_Av\", \"Bsmt.Exposure_Mn\", \"Bsmt.Exposure_No\", \"Bsmt.Exposure_NA\"\n",
      "\n",
      "From column \"BsmtFin.Type.1\" we made \"BsmtFin.Type.1_ALQ\", \"BsmtFin.Type.1_BLQ\", \"BsmtFin.Type.1_Rec\", \"BsmtFin.Type.1_LwQ\", \"BsmtFin.Type.1_Unf\", \"BsmtFin.Type.1_NA\"\n",
      "\n",
      "From column \"BsmtFin.Type.2\" we made \"BsmtFin.Type.2_ALQ\", \"BsmtFin.Type.2_BLQ\", \"BsmtFin.Type.2_Rec\", \"BsmtFin.Type.2_LwQ\", \"BsmtFin.Type.2_Unf\", \"BsmtFin.Type.2_NA\"\n",
      "\n",
      "From column \"Central.Air\" we made \"Central.Air_Y\"\n",
      "\n",
      "From column \"Garage.Type\" we made \"Garage.Type_Attchd\", \"Garage.Type_Basment\", \"Garage.Type_BuiltIn\", \"Garage.Type_CarPort\", \"Garage.Type_Detchd\", \"Garage.Type_NoGarage\"\n",
      "\n",
      "From column \"Garage.Finish\" we made \"Garage.Finish_RFn\", \"Garage.Finish_Unf\", \"Garage.Finish_NoGarage\"\n",
      "\n",
      "From column \"Sale.Type\" we made \"Sale.Type_GroupedWD\", \"Sale.Type_Other\"\n",
      "\n",
      "From column \"Sale.Condition\" we made \"Sale.Condition_AdjLand\", \"Sale.Condition_Alloca\", \"Sale.Condition_Family\", \"Sale.Condition_Normal\", \"Sale.Condition_Partial\"\n",
      "\n",
      "From column \"Condition\" we made \"Condition_Railroad\", \"Condition_Roads\", \"Condition_Positive\", \"Condition_RoadsAndRailroad\"\n",
      "\n",
      "From column \"Exterior\" we made \"Exterior_BrkFace\", \"Exterior_CemntBd\", \"Exterior_HdBoard\", \"Exterior_MetalSd\", \"Exterior_Plywood\", \"Exterior_Stucco\", \"Exterior_VinylSd\", \"Exterior_Wd Sdng\", \"Exterior_WdShing\", \"Exterior_Other\"\n",
      "\n"
     ]
    }
   ],
   "source": [
    "for cat in categorical_columns:\n",
    "    dummies = []\n",
    "    for col in model_data.columns:\n",
    "        if col.startswith(cat + \"_\"):\n",
    "            dummies.append(f'\"{col}\"')\n",
    "    dummies_str = ', '.join(dummies)\n",
    "    print(f'From column \"{cat}\" we made {dummies_str}\\n')"
   ]
  },
  {
   "cell_type": "code",
   "execution_count": 1289,
   "metadata": {},
   "outputs": [],
   "source": [
    "X = model_data.drop(columns=['SalePrice']).copy()\n",
    "y = model_data['SalePrice'].copy()"
   ]
  },
  {
   "cell_type": "code",
   "execution_count": 1290,
   "metadata": {},
   "outputs": [
    {
     "data": {
      "text/plain": [
       "(array([[141.0, 31770.0, 1, ..., 0, 0, 0],\n",
       "        [80.0, 11622.0, 0, ..., 0, 0, 0],\n",
       "        [81.0, 14267.0, 1, ..., 1, 0, 0],\n",
       "        ...,\n",
       "        [62.0, 10441.0, 0, ..., 0, 0, 0],\n",
       "        [77.0, 10010.0, 0, ..., 0, 0, 0],\n",
       "        [74.0, 9627.0, 0, ..., 0, 0, 0]], dtype=object),\n",
       " array([5.33243846, 5.0211893 , 5.23552845, ..., 5.12057393, 5.23044892,\n",
       "        5.27415785]))"
      ]
     },
     "execution_count": 1290,
     "metadata": {},
     "output_type": "execute_result"
    }
   ],
   "source": [
    "X.values, y.values"
   ]
  },
  {
   "cell_type": "code",
   "execution_count": 1291,
   "metadata": {},
   "outputs": [],
   "source": [
    "RANDOM_SEED = 42  "
   ]
  },
  {
   "cell_type": "code",
   "execution_count": 1292,
   "metadata": {},
   "outputs": [],
   "source": [
    "Xtrain, Xtest, ytrain, ytest = train_test_split(\n",
    "    X,\n",
    "    y,\n",
    "    test_size=0.25,\n",
    "    random_state=RANDOM_SEED,\n",
    ")"
   ]
  },
  {
   "cell_type": "markdown",
   "metadata": {},
   "source": [
    "## Modelo de regessão linear simples já feito pelo professor"
   ]
  },
  {
   "cell_type": "code",
   "execution_count": 1293,
   "metadata": {},
   "outputs": [
    {
     "name": "stdout",
     "output_type": "stream",
     "text": [
      "Average error is 15.11%\n"
     ]
    }
   ],
   "source": [
    "model = LinearRegression()\n",
    "\n",
    "model.fit(Xtrain, ytrain)\n",
    "ypred = model.predict(Xtest)\n",
    "\n",
    "RMSE = np.sqrt(mean_squared_error(ytest, ypred))\n",
    "error_percent = 100 * (10**RMSE - 1)\n",
    "print(f'Average error is {error_percent:.2f}%')"
   ]
  },
  {
   "cell_type": "markdown",
   "metadata": {},
   "source": [
    "# Feature Engenineering\n",
    "\n",
    "- StandardScaler: vamos padronizar todos os dados.\n",
    "\n",
    "- Área: vamos criar uma nova feature equivalente à somatória das áreas do imóvel.\n",
    "\n",
    "```OBS:``` A partir daqui os codigos não foram mais feitos pelo professor, e em alguns casos foi utilizado o auxilio do ChatGpt."
   ]
  },
  {
   "cell_type": "code",
   "execution_count": 1294,
   "metadata": {},
   "outputs": [],
   "source": [
    "area_related_features = ['Lot.Area', 'BsmtFin.SF.1', 'BsmtFin.SF.2', 'Bsmt.Unf.SF', 'Total.Bsmt.SF', \n",
    "                        'X1st.Flr.SF', 'X2nd.Flr.SF', 'Gr.Liv.Area']\n",
    "model_data['Total.Area'] = model_data[area_related_features].sum(axis=1)\n",
    "\n",
    "scaler = StandardScaler()\n",
    "model_data = scaler.fit_transform(model_data)\n",
    "\n",
    "X_train, X_test, y_train, y_test = train_test_split(X, y, test_size=0.25, random_state=42)"
   ]
  },
  {
   "cell_type": "code",
   "execution_count": 1295,
   "metadata": {},
   "outputs": [
    {
     "data": {
      "text/plain": [
       "{'Linear Regression': 15.113897593014002,\n",
       " 'Ridge': 15.100140789075,\n",
       " 'Lasso': 27.56118101277536,\n",
       " 'Elastic Net': 25.208200541428294}"
      ]
     },
     "execution_count": 1295,
     "metadata": {},
     "output_type": "execute_result"
    }
   ],
   "source": [
    "# Defining a function to calculate the average error\n",
    "def calculate_error(y_true, y_pred):\n",
    "    RMSE = np.sqrt(mean_squared_error(y_true, y_pred))\n",
    "    error_percent = 100 * (10**RMSE - 1)\n",
    "    return error_percent\n",
    "\n",
    "# Creating the models\n",
    "models = {\n",
    "    'Linear Regression': LinearRegression(),\n",
    "    'Ridge': Ridge(),\n",
    "    'Lasso': Lasso(),\n",
    "    'Elastic Net': ElasticNet()\n",
    "}\n",
    "\n",
    "# Training the models and calculating the average error for each one\n",
    "errors = {}\n",
    "for model_name, model in models.items():\n",
    "    model.fit(X_train, y_train)\n",
    "    y_pred = model.predict(X_test)\n",
    "    errors[model_name] = calculate_error(y_test, y_pred)\n",
    "\n",
    "errors\n"
   ]
  },
  {
   "cell_type": "markdown",
   "metadata": {},
   "source": [
    "# Analisadno o Resultado\n",
    "\n",
    "A partir dos resultados "
   ]
  },
  {
   "cell_type": "markdown",
   "metadata": {},
   "source": [
    "# Achando hipermarametros para os modelos"
   ]
  },
  {
   "cell_type": "markdown",
   "metadata": {},
   "source": [
    "### ```Ridge```"
   ]
  },
  {
   "cell_type": "code",
   "execution_count": 1296,
   "metadata": {},
   "outputs": [
    {
     "data": {
      "text/plain": [
       "{'alpha': 10}"
      ]
     },
     "execution_count": 1296,
     "metadata": {},
     "output_type": "execute_result"
    }
   ],
   "source": [
    "# Creating a Ridge regression model\n",
    "ridge_model = Ridge()\n",
    "\n",
    "# Defining hyperparameters to tune\n",
    "ridge_params = {'alpha': [0.01, 0.1, 1, 10, 100]}\n",
    "\n",
    "# Setting up GridSearchCV for Ridge model\n",
    "ridge_grid = GridSearchCV(ridge_model, ridge_params, cv=5, scoring='neg_mean_squared_error')\n",
    "\n",
    "# Fitting the model\n",
    "ridge_grid.fit(X_train, y_train)\n",
    "\n",
    "# Getting the best hyperparameters\n",
    "ridge_best_params = ridge_grid.best_params_\n",
    "ridge_best = ridge_grid.best_estimator_\n",
    "ridge_best_params"
   ]
  },
  {
   "cell_type": "markdown",
   "metadata": {},
   "source": [
    "### ```Lasso```"
   ]
  },
  {
   "cell_type": "code",
   "execution_count": 1297,
   "metadata": {},
   "outputs": [
    {
     "data": {
      "text/plain": [
       "{'alpha': 0.0001}"
      ]
     },
     "execution_count": 1297,
     "metadata": {},
     "output_type": "execute_result"
    }
   ],
   "source": [
    "# Creating a Lasso regression model\n",
    "lasso_model = Lasso()\n",
    "\n",
    "# Defining hyperparameters to tune\n",
    "lasso_params = {'alpha': [0.0001, 0.001, 0.01, 0.1, 1]}\n",
    "\n",
    "# Setting up GridSearchCV for Lasso model\n",
    "lasso_grid = GridSearchCV(lasso_model, lasso_params, cv=5, scoring='neg_mean_squared_error')\n",
    "\n",
    "# Fitting the model\n",
    "lasso_grid.fit(X_train, y_train)\n",
    "\n",
    "# Getting the best hyperparameters\n",
    "lasso_best_params = lasso_grid.best_params_\n",
    "lasso_best = lasso_grid.best_estimator_\n",
    "lasso_best_params\n"
   ]
  },
  {
   "cell_type": "markdown",
   "metadata": {},
   "source": [
    "### ```Elastic Net```"
   ]
  },
  {
   "cell_type": "code",
   "execution_count": 1298,
   "metadata": {},
   "outputs": [
    {
     "name": "stderr",
     "output_type": "stream",
     "text": [
      "c:\\Users\\Eduardo\\AppData\\Local\\Programs\\Python\\Python310\\lib\\site-packages\\sklearn\\linear_model\\_coordinate_descent.py:631: ConvergenceWarning: Objective did not converge. You might want to increase the number of iterations, check the scale of the features or consider increasing regularisation. Duality gap: 1.306e-02, tolerance: 5.147e-03\n",
      "  model = cd_fast.enet_coordinate_descent(\n",
      "c:\\Users\\Eduardo\\AppData\\Local\\Programs\\Python\\Python310\\lib\\site-packages\\sklearn\\linear_model\\_coordinate_descent.py:631: ConvergenceWarning: Objective did not converge. You might want to increase the number of iterations, check the scale of the features or consider increasing regularisation. Duality gap: 1.055e-02, tolerance: 4.972e-03\n",
      "  model = cd_fast.enet_coordinate_descent(\n",
      "c:\\Users\\Eduardo\\AppData\\Local\\Programs\\Python\\Python310\\lib\\site-packages\\sklearn\\linear_model\\_coordinate_descent.py:631: ConvergenceWarning: Objective did not converge. You might want to increase the number of iterations, check the scale of the features or consider increasing regularisation. Duality gap: 1.003e+00, tolerance: 5.069e-03\n",
      "  model = cd_fast.enet_coordinate_descent(\n",
      "c:\\Users\\Eduardo\\AppData\\Local\\Programs\\Python\\Python310\\lib\\site-packages\\sklearn\\linear_model\\_coordinate_descent.py:631: ConvergenceWarning: Objective did not converge. You might want to increase the number of iterations, check the scale of the features or consider increasing regularisation. Duality gap: 2.422e-02, tolerance: 5.072e-03\n",
      "  model = cd_fast.enet_coordinate_descent(\n",
      "c:\\Users\\Eduardo\\AppData\\Local\\Programs\\Python\\Python310\\lib\\site-packages\\sklearn\\linear_model\\_coordinate_descent.py:631: ConvergenceWarning: Objective did not converge. You might want to increase the number of iterations, check the scale of the features or consider increasing regularisation. Duality gap: 2.924e-02, tolerance: 5.071e-03\n",
      "  model = cd_fast.enet_coordinate_descent(\n",
      "c:\\Users\\Eduardo\\AppData\\Local\\Programs\\Python\\Python310\\lib\\site-packages\\sklearn\\linear_model\\_coordinate_descent.py:631: ConvergenceWarning: Objective did not converge. You might want to increase the number of iterations, check the scale of the features or consider increasing regularisation. Duality gap: 3.802e-01, tolerance: 5.069e-03\n",
      "  model = cd_fast.enet_coordinate_descent(\n",
      "c:\\Users\\Eduardo\\AppData\\Local\\Programs\\Python\\Python310\\lib\\site-packages\\sklearn\\linear_model\\_coordinate_descent.py:631: ConvergenceWarning: Objective did not converge. You might want to increase the number of iterations, check the scale of the features or consider increasing regularisation. Duality gap: 5.090e-03, tolerance: 5.072e-03\n",
      "  model = cd_fast.enet_coordinate_descent(\n",
      "c:\\Users\\Eduardo\\AppData\\Local\\Programs\\Python\\Python310\\lib\\site-packages\\sklearn\\linear_model\\_coordinate_descent.py:631: ConvergenceWarning: Objective did not converge. You might want to increase the number of iterations, check the scale of the features or consider increasing regularisation. Duality gap: 1.835e-02, tolerance: 5.069e-03\n",
      "  model = cd_fast.enet_coordinate_descent(\n",
      "c:\\Users\\Eduardo\\AppData\\Local\\Programs\\Python\\Python310\\lib\\site-packages\\sklearn\\linear_model\\_coordinate_descent.py:631: ConvergenceWarning: Objective did not converge. You might want to increase the number of iterations, check the scale of the features or consider increasing regularisation. Duality gap: 4.393e-02, tolerance: 5.072e-03\n",
      "  model = cd_fast.enet_coordinate_descent(\n",
      "c:\\Users\\Eduardo\\AppData\\Local\\Programs\\Python\\Python310\\lib\\site-packages\\sklearn\\linear_model\\_coordinate_descent.py:631: ConvergenceWarning: Objective did not converge. You might want to increase the number of iterations, check the scale of the features or consider increasing regularisation. Duality gap: 1.756e-02, tolerance: 5.072e-03\n",
      "  model = cd_fast.enet_coordinate_descent(\n"
     ]
    },
    {
     "data": {
      "text/plain": [
       "{'alpha': 0.0001, 'l1_ratio': 0.6}"
      ]
     },
     "execution_count": 1298,
     "metadata": {},
     "output_type": "execute_result"
    }
   ],
   "source": [
    "# Creating an Elastic Net regression model\n",
    "elastic_model = ElasticNet()\n",
    "\n",
    "# Defining hyperparameters to tune\n",
    "elastic_params = {'alpha': [0.00001, 0.0001, 0.001, 0.01, 0.1],\n",
    "                  'l1_ratio': [0.2, 0.4, 0.6, 0.8]}\n",
    "# Setting up GridSearchCV for Elastic Net model\n",
    "elastic_grid = GridSearchCV(elastic_model, elastic_params, cv=5, scoring='neg_mean_squared_error')\n",
    "\n",
    "# Fitting the model\n",
    "elastic_grid.fit(X_train, y_train)\n",
    "\n",
    "# Getting the best hyperparameters\n",
    "elastic_best_params = elastic_grid.best_params_\n",
    "elastic_best = elastic_grid.best_estimator_\n",
    "elastic_best_params"
   ]
  },
  {
   "cell_type": "markdown",
   "metadata": {},
   "source": [
    "# Testando os modelos com os melhores hiperparametros"
   ]
  },
  {
   "cell_type": "code",
   "execution_count": 1299,
   "metadata": {},
   "outputs": [
    {
     "name": "stdout",
     "output_type": "stream",
     "text": [
      "Erro Médio Ridge: 15.333634985764121%\n"
     ]
    }
   ],
   "source": [
    "ridge_best.fit(X_train, y_train)\n",
    "y_pred = ridge_best.predict(X_test)\n",
    "print(f'Erro Médio Ridge: {calculate_error(y_test, y_pred)}%')\n"
   ]
  },
  {
   "cell_type": "code",
   "execution_count": 1300,
   "metadata": {},
   "outputs": [
    {
     "name": "stdout",
     "output_type": "stream",
     "text": [
      "Erro Médio Lasso: 15.438146030643596%\n"
     ]
    }
   ],
   "source": [
    "lasso_best.fit(X_train, y_train)\n",
    "y_pred = lasso_best.predict(X_test)\n",
    "print(f'Erro Médio Lasso: {calculate_error(y_test, y_pred)}%')"
   ]
  },
  {
   "cell_type": "code",
   "execution_count": 1301,
   "metadata": {},
   "outputs": [
    {
     "name": "stdout",
     "output_type": "stream",
     "text": [
      "Erro Médio Elastic Net: 15.272100126746002%\n"
     ]
    }
   ],
   "source": [
    "elastic_best.fit(X_train, y_train)\n",
    "y_pred = elastic_best.predict(X_test)\n",
    "print(f'Erro Médio Elastic Net: {calculate_error(y_test, y_pred)}%')"
   ]
  },
  {
   "cell_type": "markdown",
   "metadata": {},
   "source": [
    "# TTest"
   ]
  },
  {
   "cell_type": "code",
   "execution_count": 1302,
   "metadata": {},
   "outputs": [
    {
     "data": {
      "text/plain": [
       "{'Linear Regression vs Ridge': 0.19170962930008917,\n",
       " 'Linear Regression vs Lasso': 0.8254325951191165,\n",
       " 'Linear Regression vs Elastic Net': 0.7343092941381877,\n",
       " 'Ridge vs Lasso': 0.78877066901376,\n",
       " 'Ridge vs Elastic Net': 0.7712548233478488,\n",
       " 'Lasso vs Elastic Net': 0.04263071302906823}"
      ]
     },
     "execution_count": 1302,
     "metadata": {},
     "output_type": "execute_result"
    }
   ],
   "source": [
    "from scipy.stats import ttest_rel\n",
    "\n",
    "# Function to perform paired t-test and return the p-value\n",
    "def paired_ttest(model_1_preds, model_2_preds, y_test):\n",
    "    errors_1 = model_1_preds - y_test\n",
    "    errors_2 = model_2_preds - y_test\n",
    "    t_stat, p_value = ttest_rel(errors_1, errors_2)\n",
    "    return p_value\n",
    "\n",
    "# Getting predictions from each model\n",
    "predictions = {}\n",
    "for model_name, model in models.items():\n",
    "    predictions[model_name] = model.predict(X_test)\n",
    "\n",
    "# Storing the p-values for each model comparison\n",
    "p_values = {}\n",
    "\n",
    "# Comparing each model with each other model\n",
    "for i, (name_1, preds_1) in enumerate(predictions.items()):\n",
    "    for name_2, preds_2 in list(predictions.items())[i+1:]:\n",
    "        p_value = paired_ttest(preds_1, preds_2, y_test)\n",
    "        comparison_name = f\"{name_1} vs {name_2}\"\n",
    "        p_values[comparison_name] = p_value\n",
    "\n",
    "p_values\n"
   ]
  },
  {
   "cell_type": "markdown",
   "metadata": {},
   "source": [
    "# Analisando os resultados\n",
    "\n",
    "Durante o notebook, foram testados 4 modelos: Ridge, Lasso, Regressão Linear Simples, Elastic Net. Realizamos features engenineering para padronizar os dados e criar uma nova feature a respeito da área do imóvel. Por fim, testamos os modelos com os melhores hiperparametros.\n",
    "\n",
    "A partir dos resultados obtidos, podemos concluir que não há uma diferença significativa nos erros de previsão entre a maioria dos pares de modelos, conforme evidenciado pelos valores-p acima do limiar de significância de ```0.05```. No entanto, ao comparar o modelo Lasso com o Elastic Net, obtemos um valor-p de ```0.0426```, que é menor que ```0.05```, indicando uma diferença estatisticamente significativa nos erros de previsão desses dois modelos."
   ]
  },
  {
   "cell_type": "markdown",
   "metadata": {},
   "source": [
    "# Modelo Final\n",
    "\n",
    "Agora que escolhemos o Elastic Net como melhor modelo, vamos analisa-lo mais a fundo e medir seu desempenho."
   ]
  },
  {
   "cell_type": "code",
   "execution_count": 1303,
   "metadata": {},
   "outputs": [
    {
     "name": "stderr",
     "output_type": "stream",
     "text": [
      "c:\\Users\\Eduardo\\AppData\\Local\\Programs\\Python\\Python310\\lib\\site-packages\\sklearn\\linear_model\\_coordinate_descent.py:617: ConvergenceWarning: Objective did not converge. You might want to increase the number of iterations. Duality gap: 0.9258100543734753, tolerance: 0.0051470558908321955\n",
      "  model = cd_fast.enet_coordinate_descent_gram(\n",
      "c:\\Users\\Eduardo\\AppData\\Local\\Programs\\Python\\Python310\\lib\\site-packages\\sklearn\\linear_model\\_coordinate_descent.py:617: ConvergenceWarning: Objective did not converge. You might want to increase the number of iterations. Duality gap: 0.5417000020398526, tolerance: 0.0051470558908321955\n",
      "  model = cd_fast.enet_coordinate_descent_gram(\n",
      "c:\\Users\\Eduardo\\AppData\\Local\\Programs\\Python\\Python310\\lib\\site-packages\\sklearn\\linear_model\\_coordinate_descent.py:617: ConvergenceWarning: Objective did not converge. You might want to increase the number of iterations. Duality gap: 0.4453620282119666, tolerance: 0.0051470558908321955\n",
      "  model = cd_fast.enet_coordinate_descent_gram(\n",
      "c:\\Users\\Eduardo\\AppData\\Local\\Programs\\Python\\Python310\\lib\\site-packages\\sklearn\\linear_model\\_coordinate_descent.py:617: ConvergenceWarning: Objective did not converge. You might want to increase the number of iterations. Duality gap: 0.40554284105315297, tolerance: 0.0051470558908321955\n",
      "  model = cd_fast.enet_coordinate_descent_gram(\n",
      "c:\\Users\\Eduardo\\AppData\\Local\\Programs\\Python\\Python310\\lib\\site-packages\\sklearn\\linear_model\\_coordinate_descent.py:617: ConvergenceWarning: Objective did not converge. You might want to increase the number of iterations. Duality gap: 0.41738651492807843, tolerance: 0.0051470558908321955\n",
      "  model = cd_fast.enet_coordinate_descent_gram(\n",
      "c:\\Users\\Eduardo\\AppData\\Local\\Programs\\Python\\Python310\\lib\\site-packages\\sklearn\\linear_model\\_coordinate_descent.py:617: ConvergenceWarning: Objective did not converge. You might want to increase the number of iterations. Duality gap: 0.44575555852180626, tolerance: 0.0049719190079918684\n",
      "  model = cd_fast.enet_coordinate_descent_gram(\n",
      "c:\\Users\\Eduardo\\AppData\\Local\\Programs\\Python\\Python310\\lib\\site-packages\\sklearn\\linear_model\\_coordinate_descent.py:617: ConvergenceWarning: Objective did not converge. You might want to increase the number of iterations. Duality gap: 0.3565103398498932, tolerance: 0.0049719190079918684\n",
      "  model = cd_fast.enet_coordinate_descent_gram(\n",
      "c:\\Users\\Eduardo\\AppData\\Local\\Programs\\Python\\Python310\\lib\\site-packages\\sklearn\\linear_model\\_coordinate_descent.py:617: ConvergenceWarning: Objective did not converge. You might want to increase the number of iterations. Duality gap: 0.08584100568743036, tolerance: 0.0049719190079918684\n",
      "  model = cd_fast.enet_coordinate_descent_gram(\n",
      "c:\\Users\\Eduardo\\AppData\\Local\\Programs\\Python\\Python310\\lib\\site-packages\\sklearn\\linear_model\\_coordinate_descent.py:617: ConvergenceWarning: Objective did not converge. You might want to increase the number of iterations. Duality gap: 1.0597439230737875, tolerance: 0.0049719190079918684\n",
      "  model = cd_fast.enet_coordinate_descent_gram(\n",
      "c:\\Users\\Eduardo\\AppData\\Local\\Programs\\Python\\Python310\\lib\\site-packages\\sklearn\\linear_model\\_coordinate_descent.py:617: ConvergenceWarning: Objective did not converge. You might want to increase the number of iterations. Duality gap: 1.0507144495702883, tolerance: 0.005068540865318052\n",
      "  model = cd_fast.enet_coordinate_descent_gram(\n",
      "c:\\Users\\Eduardo\\AppData\\Local\\Programs\\Python\\Python310\\lib\\site-packages\\sklearn\\linear_model\\_coordinate_descent.py:617: ConvergenceWarning: Objective did not converge. You might want to increase the number of iterations. Duality gap: 0.590612183086197, tolerance: 0.005068540865318052\n",
      "  model = cd_fast.enet_coordinate_descent_gram(\n",
      "c:\\Users\\Eduardo\\AppData\\Local\\Programs\\Python\\Python310\\lib\\site-packages\\sklearn\\linear_model\\_coordinate_descent.py:617: ConvergenceWarning: Objective did not converge. You might want to increase the number of iterations. Duality gap: 0.48566001156553207, tolerance: 0.005068540865318052\n",
      "  model = cd_fast.enet_coordinate_descent_gram(\n",
      "c:\\Users\\Eduardo\\AppData\\Local\\Programs\\Python\\Python310\\lib\\site-packages\\sklearn\\linear_model\\_coordinate_descent.py:617: ConvergenceWarning: Objective did not converge. You might want to increase the number of iterations. Duality gap: 1.2777220113611638, tolerance: 0.005068540865318052\n",
      "  model = cd_fast.enet_coordinate_descent_gram(\n",
      "c:\\Users\\Eduardo\\AppData\\Local\\Programs\\Python\\Python310\\lib\\site-packages\\sklearn\\linear_model\\_coordinate_descent.py:617: ConvergenceWarning: Objective did not converge. You might want to increase the number of iterations. Duality gap: 1.686984807739818, tolerance: 0.005068540865318052\n",
      "  model = cd_fast.enet_coordinate_descent_gram(\n",
      "c:\\Users\\Eduardo\\AppData\\Local\\Programs\\Python\\Python310\\lib\\site-packages\\sklearn\\linear_model\\_coordinate_descent.py:617: ConvergenceWarning: Objective did not converge. You might want to increase the number of iterations. Duality gap: 1.0956605236378958, tolerance: 0.005071885901066959\n",
      "  model = cd_fast.enet_coordinate_descent_gram(\n",
      "c:\\Users\\Eduardo\\AppData\\Local\\Programs\\Python\\Python310\\lib\\site-packages\\sklearn\\linear_model\\_coordinate_descent.py:617: ConvergenceWarning: Objective did not converge. You might want to increase the number of iterations. Duality gap: 0.5767206313655624, tolerance: 0.005071885901066959\n",
      "  model = cd_fast.enet_coordinate_descent_gram(\n",
      "c:\\Users\\Eduardo\\AppData\\Local\\Programs\\Python\\Python310\\lib\\site-packages\\sklearn\\linear_model\\_coordinate_descent.py:617: ConvergenceWarning: Objective did not converge. You might want to increase the number of iterations. Duality gap: 0.36420310989319615, tolerance: 0.005071885901066959\n",
      "  model = cd_fast.enet_coordinate_descent_gram(\n",
      "c:\\Users\\Eduardo\\AppData\\Local\\Programs\\Python\\Python310\\lib\\site-packages\\sklearn\\linear_model\\_coordinate_descent.py:617: ConvergenceWarning: Objective did not converge. You might want to increase the number of iterations. Duality gap: 0.19683880130472975, tolerance: 0.005071885901066959\n",
      "  model = cd_fast.enet_coordinate_descent_gram(\n",
      "c:\\Users\\Eduardo\\AppData\\Local\\Programs\\Python\\Python310\\lib\\site-packages\\sklearn\\linear_model\\_coordinate_descent.py:617: ConvergenceWarning: Objective did not converge. You might want to increase the number of iterations. Duality gap: 0.2769265107504064, tolerance: 0.005071885901066959\n",
      "  model = cd_fast.enet_coordinate_descent_gram(\n",
      "c:\\Users\\Eduardo\\AppData\\Local\\Programs\\Python\\Python310\\lib\\site-packages\\sklearn\\linear_model\\_coordinate_descent.py:617: ConvergenceWarning: Objective did not converge. You might want to increase the number of iterations. Duality gap: 0.9927622207728479, tolerance: 0.005070572936002261\n",
      "  model = cd_fast.enet_coordinate_descent_gram(\n",
      "c:\\Users\\Eduardo\\AppData\\Local\\Programs\\Python\\Python310\\lib\\site-packages\\sklearn\\linear_model\\_coordinate_descent.py:617: ConvergenceWarning: Objective did not converge. You might want to increase the number of iterations. Duality gap: 0.5414478081128731, tolerance: 0.005070572936002261\n",
      "  model = cd_fast.enet_coordinate_descent_gram(\n",
      "c:\\Users\\Eduardo\\AppData\\Local\\Programs\\Python\\Python310\\lib\\site-packages\\sklearn\\linear_model\\_coordinate_descent.py:617: ConvergenceWarning: Objective did not converge. You might want to increase the number of iterations. Duality gap: 0.4457003557844772, tolerance: 0.005070572936002261\n",
      "  model = cd_fast.enet_coordinate_descent_gram(\n",
      "c:\\Users\\Eduardo\\AppData\\Local\\Programs\\Python\\Python310\\lib\\site-packages\\sklearn\\linear_model\\_coordinate_descent.py:617: ConvergenceWarning: Objective did not converge. You might want to increase the number of iterations. Duality gap: 0.3920653340323017, tolerance: 0.005070572936002261\n",
      "  model = cd_fast.enet_coordinate_descent_gram(\n",
      "c:\\Users\\Eduardo\\AppData\\Local\\Programs\\Python\\Python310\\lib\\site-packages\\sklearn\\linear_model\\_coordinate_descent.py:617: ConvergenceWarning: Objective did not converge. You might want to increase the number of iterations. Duality gap: 1.1461176152366819, tolerance: 0.005070572936002261\n",
      "  model = cd_fast.enet_coordinate_descent_gram(\n",
      "c:\\Users\\Eduardo\\AppData\\Local\\Programs\\Python\\Python310\\lib\\site-packages\\sklearn\\linear_model\\_coordinate_descent.py:617: ConvergenceWarning: Objective did not converge. You might want to increase the number of iterations. Duality gap: 0.7842546066111611, tolerance: 0.0051470558908321955\n",
      "  model = cd_fast.enet_coordinate_descent_gram(\n",
      "c:\\Users\\Eduardo\\AppData\\Local\\Programs\\Python\\Python310\\lib\\site-packages\\sklearn\\linear_model\\_coordinate_descent.py:617: ConvergenceWarning: Objective did not converge. You might want to increase the number of iterations. Duality gap: 0.4769262636810394, tolerance: 0.0051470558908321955\n",
      "  model = cd_fast.enet_coordinate_descent_gram(\n",
      "c:\\Users\\Eduardo\\AppData\\Local\\Programs\\Python\\Python310\\lib\\site-packages\\sklearn\\linear_model\\_coordinate_descent.py:617: ConvergenceWarning: Objective did not converge. You might want to increase the number of iterations. Duality gap: 0.42769513522547986, tolerance: 0.0051470558908321955\n",
      "  model = cd_fast.enet_coordinate_descent_gram(\n",
      "c:\\Users\\Eduardo\\AppData\\Local\\Programs\\Python\\Python310\\lib\\site-packages\\sklearn\\linear_model\\_coordinate_descent.py:617: ConvergenceWarning: Objective did not converge. You might want to increase the number of iterations. Duality gap: 0.4217171164689104, tolerance: 0.0051470558908321955\n",
      "  model = cd_fast.enet_coordinate_descent_gram(\n",
      "c:\\Users\\Eduardo\\AppData\\Local\\Programs\\Python\\Python310\\lib\\site-packages\\sklearn\\linear_model\\_coordinate_descent.py:617: ConvergenceWarning: Objective did not converge. You might want to increase the number of iterations. Duality gap: 0.694123921926882, tolerance: 0.0049719190079918684\n",
      "  model = cd_fast.enet_coordinate_descent_gram(\n",
      "c:\\Users\\Eduardo\\AppData\\Local\\Programs\\Python\\Python310\\lib\\site-packages\\sklearn\\linear_model\\_coordinate_descent.py:617: ConvergenceWarning: Objective did not converge. You might want to increase the number of iterations. Duality gap: 0.5107274511257287, tolerance: 0.0049719190079918684\n",
      "  model = cd_fast.enet_coordinate_descent_gram(\n",
      "c:\\Users\\Eduardo\\AppData\\Local\\Programs\\Python\\Python310\\lib\\site-packages\\sklearn\\linear_model\\_coordinate_descent.py:617: ConvergenceWarning: Objective did not converge. You might want to increase the number of iterations. Duality gap: 0.34125184939719344, tolerance: 0.0049719190079918684\n",
      "  model = cd_fast.enet_coordinate_descent_gram(\n",
      "c:\\Users\\Eduardo\\AppData\\Local\\Programs\\Python\\Python310\\lib\\site-packages\\sklearn\\linear_model\\_coordinate_descent.py:617: ConvergenceWarning: Objective did not converge. You might want to increase the number of iterations. Duality gap: 0.9486525432383907, tolerance: 0.0049719190079918684\n",
      "  model = cd_fast.enet_coordinate_descent_gram(\n",
      "c:\\Users\\Eduardo\\AppData\\Local\\Programs\\Python\\Python310\\lib\\site-packages\\sklearn\\linear_model\\_coordinate_descent.py:617: ConvergenceWarning: Objective did not converge. You might want to increase the number of iterations. Duality gap: 0.6927398812718346, tolerance: 0.005068540865318052\n",
      "  model = cd_fast.enet_coordinate_descent_gram(\n",
      "c:\\Users\\Eduardo\\AppData\\Local\\Programs\\Python\\Python310\\lib\\site-packages\\sklearn\\linear_model\\_coordinate_descent.py:617: ConvergenceWarning: Objective did not converge. You might want to increase the number of iterations. Duality gap: 0.5145624110122606, tolerance: 0.005068540865318052\n",
      "  model = cd_fast.enet_coordinate_descent_gram(\n",
      "c:\\Users\\Eduardo\\AppData\\Local\\Programs\\Python\\Python310\\lib\\site-packages\\sklearn\\linear_model\\_coordinate_descent.py:617: ConvergenceWarning: Objective did not converge. You might want to increase the number of iterations. Duality gap: 0.7469004756680702, tolerance: 0.005068540865318052\n",
      "  model = cd_fast.enet_coordinate_descent_gram(\n",
      "c:\\Users\\Eduardo\\AppData\\Local\\Programs\\Python\\Python310\\lib\\site-packages\\sklearn\\linear_model\\_coordinate_descent.py:617: ConvergenceWarning: Objective did not converge. You might want to increase the number of iterations. Duality gap: 1.6123634376246108, tolerance: 0.005068540865318052\n",
      "  model = cd_fast.enet_coordinate_descent_gram(\n",
      "c:\\Users\\Eduardo\\AppData\\Local\\Programs\\Python\\Python310\\lib\\site-packages\\sklearn\\linear_model\\_coordinate_descent.py:617: ConvergenceWarning: Objective did not converge. You might want to increase the number of iterations. Duality gap: 0.676322105008264, tolerance: 0.005071885901066959\n",
      "  model = cd_fast.enet_coordinate_descent_gram(\n",
      "c:\\Users\\Eduardo\\AppData\\Local\\Programs\\Python\\Python310\\lib\\site-packages\\sklearn\\linear_model\\_coordinate_descent.py:617: ConvergenceWarning: Objective did not converge. You might want to increase the number of iterations. Duality gap: 0.508410779993181, tolerance: 0.005071885901066959\n",
      "  model = cd_fast.enet_coordinate_descent_gram(\n",
      "c:\\Users\\Eduardo\\AppData\\Local\\Programs\\Python\\Python310\\lib\\site-packages\\sklearn\\linear_model\\_coordinate_descent.py:617: ConvergenceWarning: Objective did not converge. You might want to increase the number of iterations. Duality gap: 0.26206848069058, tolerance: 0.005071885901066959\n",
      "  model = cd_fast.enet_coordinate_descent_gram(\n",
      "c:\\Users\\Eduardo\\AppData\\Local\\Programs\\Python\\Python310\\lib\\site-packages\\sklearn\\linear_model\\_coordinate_descent.py:617: ConvergenceWarning: Objective did not converge. You might want to increase the number of iterations. Duality gap: 0.2851781175539436, tolerance: 0.005071885901066959\n",
      "  model = cd_fast.enet_coordinate_descent_gram(\n",
      "c:\\Users\\Eduardo\\AppData\\Local\\Programs\\Python\\Python310\\lib\\site-packages\\sklearn\\linear_model\\_coordinate_descent.py:617: ConvergenceWarning: Objective did not converge. You might want to increase the number of iterations. Duality gap: 0.6393531113855566, tolerance: 0.005070572936002261\n",
      "  model = cd_fast.enet_coordinate_descent_gram(\n",
      "c:\\Users\\Eduardo\\AppData\\Local\\Programs\\Python\\Python310\\lib\\site-packages\\sklearn\\linear_model\\_coordinate_descent.py:617: ConvergenceWarning: Objective did not converge. You might want to increase the number of iterations. Duality gap: 0.4725735926137504, tolerance: 0.005070572936002261\n",
      "  model = cd_fast.enet_coordinate_descent_gram(\n",
      "c:\\Users\\Eduardo\\AppData\\Local\\Programs\\Python\\Python310\\lib\\site-packages\\sklearn\\linear_model\\_coordinate_descent.py:617: ConvergenceWarning: Objective did not converge. You might want to increase the number of iterations. Duality gap: 0.42663231033356985, tolerance: 0.005070572936002261\n",
      "  model = cd_fast.enet_coordinate_descent_gram(\n",
      "c:\\Users\\Eduardo\\AppData\\Local\\Programs\\Python\\Python310\\lib\\site-packages\\sklearn\\linear_model\\_coordinate_descent.py:617: ConvergenceWarning: Objective did not converge. You might want to increase the number of iterations. Duality gap: 0.7501548028221929, tolerance: 0.005070572936002261\n",
      "  model = cd_fast.enet_coordinate_descent_gram(\n",
      "c:\\Users\\Eduardo\\AppData\\Local\\Programs\\Python\\Python310\\lib\\site-packages\\sklearn\\linear_model\\_coordinate_descent.py:617: ConvergenceWarning: Objective did not converge. You might want to increase the number of iterations. Duality gap: 0.8479309309980101, tolerance: 0.0051470558908321955\n",
      "  model = cd_fast.enet_coordinate_descent_gram(\n",
      "c:\\Users\\Eduardo\\AppData\\Local\\Programs\\Python\\Python310\\lib\\site-packages\\sklearn\\linear_model\\_coordinate_descent.py:617: ConvergenceWarning: Objective did not converge. You might want to increase the number of iterations. Duality gap: 0.4990126979760603, tolerance: 0.0051470558908321955\n",
      "  model = cd_fast.enet_coordinate_descent_gram(\n",
      "c:\\Users\\Eduardo\\AppData\\Local\\Programs\\Python\\Python310\\lib\\site-packages\\sklearn\\linear_model\\_coordinate_descent.py:617: ConvergenceWarning: Objective did not converge. You might want to increase the number of iterations. Duality gap: 0.4371467499260855, tolerance: 0.0051470558908321955\n",
      "  model = cd_fast.enet_coordinate_descent_gram(\n",
      "c:\\Users\\Eduardo\\AppData\\Local\\Programs\\Python\\Python310\\lib\\site-packages\\sklearn\\linear_model\\_coordinate_descent.py:617: ConvergenceWarning: Objective did not converge. You might want to increase the number of iterations. Duality gap: 0.42309920133376666, tolerance: 0.0051470558908321955\n",
      "  model = cd_fast.enet_coordinate_descent_gram(\n",
      "c:\\Users\\Eduardo\\AppData\\Local\\Programs\\Python\\Python310\\lib\\site-packages\\sklearn\\linear_model\\_coordinate_descent.py:617: ConvergenceWarning: Objective did not converge. You might want to increase the number of iterations. Duality gap: 0.7550822707878251, tolerance: 0.0049719190079918684\n",
      "  model = cd_fast.enet_coordinate_descent_gram(\n",
      "c:\\Users\\Eduardo\\AppData\\Local\\Programs\\Python\\Python310\\lib\\site-packages\\sklearn\\linear_model\\_coordinate_descent.py:617: ConvergenceWarning: Objective did not converge. You might want to increase the number of iterations. Duality gap: 0.5338090015501953, tolerance: 0.0049719190079918684\n",
      "  model = cd_fast.enet_coordinate_descent_gram(\n",
      "c:\\Users\\Eduardo\\AppData\\Local\\Programs\\Python\\Python310\\lib\\site-packages\\sklearn\\linear_model\\_coordinate_descent.py:617: ConvergenceWarning: Objective did not converge. You might want to increase the number of iterations. Duality gap: 0.46500916553766114, tolerance: 0.0049719190079918684\n",
      "  model = cd_fast.enet_coordinate_descent_gram(\n",
      "c:\\Users\\Eduardo\\AppData\\Local\\Programs\\Python\\Python310\\lib\\site-packages\\sklearn\\linear_model\\_coordinate_descent.py:617: ConvergenceWarning: Objective did not converge. You might want to increase the number of iterations. Duality gap: 0.48028526275503736, tolerance: 0.0049719190079918684\n",
      "  model = cd_fast.enet_coordinate_descent_gram(\n",
      "c:\\Users\\Eduardo\\AppData\\Local\\Programs\\Python\\Python310\\lib\\site-packages\\sklearn\\linear_model\\_coordinate_descent.py:617: ConvergenceWarning: Objective did not converge. You might want to increase the number of iterations. Duality gap: 0.9625824779888703, tolerance: 0.005068540865318052\n",
      "  model = cd_fast.enet_coordinate_descent_gram(\n",
      "c:\\Users\\Eduardo\\AppData\\Local\\Programs\\Python\\Python310\\lib\\site-packages\\sklearn\\linear_model\\_coordinate_descent.py:617: ConvergenceWarning: Objective did not converge. You might want to increase the number of iterations. Duality gap: 0.3581051811465432, tolerance: 0.005068540865318052\n",
      "  model = cd_fast.enet_coordinate_descent_gram(\n",
      "c:\\Users\\Eduardo\\AppData\\Local\\Programs\\Python\\Python310\\lib\\site-packages\\sklearn\\linear_model\\_coordinate_descent.py:617: ConvergenceWarning: Objective did not converge. You might want to increase the number of iterations. Duality gap: 0.34364798180037104, tolerance: 0.005068540865318052\n",
      "  model = cd_fast.enet_coordinate_descent_gram(\n",
      "c:\\Users\\Eduardo\\AppData\\Local\\Programs\\Python\\Python310\\lib\\site-packages\\sklearn\\linear_model\\_coordinate_descent.py:617: ConvergenceWarning: Objective did not converge. You might want to increase the number of iterations. Duality gap: 1.5962113825353497, tolerance: 0.005068540865318052\n",
      "  model = cd_fast.enet_coordinate_descent_gram(\n",
      "c:\\Users\\Eduardo\\AppData\\Local\\Programs\\Python\\Python310\\lib\\site-packages\\sklearn\\linear_model\\_coordinate_descent.py:617: ConvergenceWarning: Objective did not converge. You might want to increase the number of iterations. Duality gap: 0.9336437319715605, tolerance: 0.005071885901066959\n",
      "  model = cd_fast.enet_coordinate_descent_gram(\n",
      "c:\\Users\\Eduardo\\AppData\\Local\\Programs\\Python\\Python310\\lib\\site-packages\\sklearn\\linear_model\\_coordinate_descent.py:617: ConvergenceWarning: Objective did not converge. You might want to increase the number of iterations. Duality gap: 0.5293159252822524, tolerance: 0.005071885901066959\n",
      "  model = cd_fast.enet_coordinate_descent_gram(\n",
      "c:\\Users\\Eduardo\\AppData\\Local\\Programs\\Python\\Python310\\lib\\site-packages\\sklearn\\linear_model\\_coordinate_descent.py:617: ConvergenceWarning: Objective did not converge. You might want to increase the number of iterations. Duality gap: 0.2875935005354613, tolerance: 0.005071885901066959\n",
      "  model = cd_fast.enet_coordinate_descent_gram(\n",
      "c:\\Users\\Eduardo\\AppData\\Local\\Programs\\Python\\Python310\\lib\\site-packages\\sklearn\\linear_model\\_coordinate_descent.py:617: ConvergenceWarning: Objective did not converge. You might want to increase the number of iterations. Duality gap: 0.2882407531020661, tolerance: 0.005071885901066959\n",
      "  model = cd_fast.enet_coordinate_descent_gram(\n",
      "c:\\Users\\Eduardo\\AppData\\Local\\Programs\\Python\\Python310\\lib\\site-packages\\sklearn\\linear_model\\_coordinate_descent.py:617: ConvergenceWarning: Objective did not converge. You might want to increase the number of iterations. Duality gap: 0.9028592952973455, tolerance: 0.005070572936002261\n",
      "  model = cd_fast.enet_coordinate_descent_gram(\n",
      "c:\\Users\\Eduardo\\AppData\\Local\\Programs\\Python\\Python310\\lib\\site-packages\\sklearn\\linear_model\\_coordinate_descent.py:617: ConvergenceWarning: Objective did not converge. You might want to increase the number of iterations. Duality gap: 0.4950605241325299, tolerance: 0.005070572936002261\n",
      "  model = cd_fast.enet_coordinate_descent_gram(\n",
      "c:\\Users\\Eduardo\\AppData\\Local\\Programs\\Python\\Python310\\lib\\site-packages\\sklearn\\linear_model\\_coordinate_descent.py:617: ConvergenceWarning: Objective did not converge. You might want to increase the number of iterations. Duality gap: 0.4361351716516606, tolerance: 0.005070572936002261\n",
      "  model = cd_fast.enet_coordinate_descent_gram(\n",
      "c:\\Users\\Eduardo\\AppData\\Local\\Programs\\Python\\Python310\\lib\\site-packages\\sklearn\\linear_model\\_coordinate_descent.py:617: ConvergenceWarning: Objective did not converge. You might want to increase the number of iterations. Duality gap: 0.3332717753649561, tolerance: 0.005070572936002261\n",
      "  model = cd_fast.enet_coordinate_descent_gram(\n",
      "c:\\Users\\Eduardo\\AppData\\Local\\Programs\\Python\\Python310\\lib\\site-packages\\sklearn\\linear_model\\_coordinate_descent.py:617: ConvergenceWarning: Objective did not converge. You might want to increase the number of iterations. Duality gap: 0.8885784990085577, tolerance: 0.0051470558908321955\n",
      "  model = cd_fast.enet_coordinate_descent_gram(\n",
      "c:\\Users\\Eduardo\\AppData\\Local\\Programs\\Python\\Python310\\lib\\site-packages\\sklearn\\linear_model\\_coordinate_descent.py:617: ConvergenceWarning: Objective did not converge. You might want to increase the number of iterations. Duality gap: 0.515879326234443, tolerance: 0.0051470558908321955\n",
      "  model = cd_fast.enet_coordinate_descent_gram(\n",
      "c:\\Users\\Eduardo\\AppData\\Local\\Programs\\Python\\Python310\\lib\\site-packages\\sklearn\\linear_model\\_coordinate_descent.py:617: ConvergenceWarning: Objective did not converge. You might want to increase the number of iterations. Duality gap: 0.4423334346860266, tolerance: 0.0051470558908321955\n",
      "  model = cd_fast.enet_coordinate_descent_gram(\n",
      "c:\\Users\\Eduardo\\AppData\\Local\\Programs\\Python\\Python310\\lib\\site-packages\\sklearn\\linear_model\\_coordinate_descent.py:617: ConvergenceWarning: Objective did not converge. You might want to increase the number of iterations. Duality gap: 0.4238488037093111, tolerance: 0.0051470558908321955\n",
      "  model = cd_fast.enet_coordinate_descent_gram(\n",
      "c:\\Users\\Eduardo\\AppData\\Local\\Programs\\Python\\Python310\\lib\\site-packages\\sklearn\\linear_model\\_coordinate_descent.py:617: ConvergenceWarning: Objective did not converge. You might want to increase the number of iterations. Duality gap: 0.7985140411576803, tolerance: 0.0049719190079918684\n",
      "  model = cd_fast.enet_coordinate_descent_gram(\n",
      "c:\\Users\\Eduardo\\AppData\\Local\\Programs\\Python\\Python310\\lib\\site-packages\\sklearn\\linear_model\\_coordinate_descent.py:617: ConvergenceWarning: Objective did not converge. You might want to increase the number of iterations. Duality gap: 0.5563027784164234, tolerance: 0.0049719190079918684\n",
      "  model = cd_fast.enet_coordinate_descent_gram(\n",
      "c:\\Users\\Eduardo\\AppData\\Local\\Programs\\Python\\Python310\\lib\\site-packages\\sklearn\\linear_model\\_coordinate_descent.py:617: ConvergenceWarning: Objective did not converge. You might want to increase the number of iterations. Duality gap: 0.47156930979337774, tolerance: 0.0049719190079918684\n",
      "  model = cd_fast.enet_coordinate_descent_gram(\n",
      "c:\\Users\\Eduardo\\AppData\\Local\\Programs\\Python\\Python310\\lib\\site-packages\\sklearn\\linear_model\\_coordinate_descent.py:617: ConvergenceWarning: Objective did not converge. You might want to increase the number of iterations. Duality gap: 0.2708320276757772, tolerance: 0.0049719190079918684\n",
      "  model = cd_fast.enet_coordinate_descent_gram(\n",
      "c:\\Users\\Eduardo\\AppData\\Local\\Programs\\Python\\Python310\\lib\\site-packages\\sklearn\\linear_model\\_coordinate_descent.py:617: ConvergenceWarning: Objective did not converge. You might want to increase the number of iterations. Duality gap: 1.007248931694365, tolerance: 0.005068540865318052\n",
      "  model = cd_fast.enet_coordinate_descent_gram(\n",
      "c:\\Users\\Eduardo\\AppData\\Local\\Programs\\Python\\Python310\\lib\\site-packages\\sklearn\\linear_model\\_coordinate_descent.py:617: ConvergenceWarning: Objective did not converge. You might want to increase the number of iterations. Duality gap: 0.3728032966417625, tolerance: 0.005068540865318052\n",
      "  model = cd_fast.enet_coordinate_descent_gram(\n",
      "c:\\Users\\Eduardo\\AppData\\Local\\Programs\\Python\\Python310\\lib\\site-packages\\sklearn\\linear_model\\_coordinate_descent.py:617: ConvergenceWarning: Objective did not converge. You might want to increase the number of iterations. Duality gap: 0.47359201589983124, tolerance: 0.005068540865318052\n",
      "  model = cd_fast.enet_coordinate_descent_gram(\n",
      "c:\\Users\\Eduardo\\AppData\\Local\\Programs\\Python\\Python310\\lib\\site-packages\\sklearn\\linear_model\\_coordinate_descent.py:617: ConvergenceWarning: Objective did not converge. You might want to increase the number of iterations. Duality gap: 1.5563984358782066, tolerance: 0.005068540865318052\n",
      "  model = cd_fast.enet_coordinate_descent_gram(\n",
      "c:\\Users\\Eduardo\\AppData\\Local\\Programs\\Python\\Python310\\lib\\site-packages\\sklearn\\linear_model\\_coordinate_descent.py:617: ConvergenceWarning: Objective did not converge. You might want to increase the number of iterations. Duality gap: 0.9797421831650637, tolerance: 0.005071885901066959\n",
      "  model = cd_fast.enet_coordinate_descent_gram(\n",
      "c:\\Users\\Eduardo\\AppData\\Local\\Programs\\Python\\Python310\\lib\\site-packages\\sklearn\\linear_model\\_coordinate_descent.py:617: ConvergenceWarning: Objective did not converge. You might want to increase the number of iterations. Duality gap: 0.5489843041156135, tolerance: 0.005071885901066959\n",
      "  model = cd_fast.enet_coordinate_descent_gram(\n",
      "c:\\Users\\Eduardo\\AppData\\Local\\Programs\\Python\\Python310\\lib\\site-packages\\sklearn\\linear_model\\_coordinate_descent.py:617: ConvergenceWarning: Objective did not converge. You might want to increase the number of iterations. Duality gap: 0.46505375668352644, tolerance: 0.005071885901066959\n",
      "  model = cd_fast.enet_coordinate_descent_gram(\n",
      "c:\\Users\\Eduardo\\AppData\\Local\\Programs\\Python\\Python310\\lib\\site-packages\\sklearn\\linear_model\\_coordinate_descent.py:617: ConvergenceWarning: Objective did not converge. You might want to increase the number of iterations. Duality gap: 0.453032082341158, tolerance: 0.005071885901066959\n",
      "  model = cd_fast.enet_coordinate_descent_gram(\n",
      "c:\\Users\\Eduardo\\AppData\\Local\\Programs\\Python\\Python310\\lib\\site-packages\\sklearn\\linear_model\\_coordinate_descent.py:617: ConvergenceWarning: Objective did not converge. You might want to increase the number of iterations. Duality gap: 0.949030383486869, tolerance: 0.005070572936002261\n",
      "  model = cd_fast.enet_coordinate_descent_gram(\n",
      "c:\\Users\\Eduardo\\AppData\\Local\\Programs\\Python\\Python310\\lib\\site-packages\\sklearn\\linear_model\\_coordinate_descent.py:617: ConvergenceWarning: Objective did not converge. You might want to increase the number of iterations. Duality gap: 0.5146780543478464, tolerance: 0.005070572936002261\n",
      "  model = cd_fast.enet_coordinate_descent_gram(\n",
      "c:\\Users\\Eduardo\\AppData\\Local\\Programs\\Python\\Python310\\lib\\site-packages\\sklearn\\linear_model\\_coordinate_descent.py:617: ConvergenceWarning: Objective did not converge. You might want to increase the number of iterations. Duality gap: 0.4396119779714722, tolerance: 0.005070572936002261\n",
      "  model = cd_fast.enet_coordinate_descent_gram(\n",
      "c:\\Users\\Eduardo\\AppData\\Local\\Programs\\Python\\Python310\\lib\\site-packages\\sklearn\\linear_model\\_coordinate_descent.py:617: ConvergenceWarning: Objective did not converge. You might want to increase the number of iterations. Duality gap: 0.15228967763329848, tolerance: 0.005070572936002261\n",
      "  model = cd_fast.enet_coordinate_descent_gram(\n",
      "c:\\Users\\Eduardo\\AppData\\Local\\Programs\\Python\\Python310\\lib\\site-packages\\sklearn\\linear_model\\_coordinate_descent.py:617: ConvergenceWarning: Objective did not converge. You might want to increase the number of iterations. Duality gap: 0.9150054870003126, tolerance: 0.0051470558908321955\n",
      "  model = cd_fast.enet_coordinate_descent_gram(\n",
      "c:\\Users\\Eduardo\\AppData\\Local\\Programs\\Python\\Python310\\lib\\site-packages\\sklearn\\linear_model\\_coordinate_descent.py:617: ConvergenceWarning: Objective did not converge. You might want to increase the number of iterations. Duality gap: 0.5322384167311809, tolerance: 0.0051470558908321955\n",
      "  model = cd_fast.enet_coordinate_descent_gram(\n",
      "c:\\Users\\Eduardo\\AppData\\Local\\Programs\\Python\\Python310\\lib\\site-packages\\sklearn\\linear_model\\_coordinate_descent.py:617: ConvergenceWarning: Objective did not converge. You might want to increase the number of iterations. Duality gap: 0.4460267663602109, tolerance: 0.0051470558908321955\n",
      "  model = cd_fast.enet_coordinate_descent_gram(\n",
      "c:\\Users\\Eduardo\\AppData\\Local\\Programs\\Python\\Python310\\lib\\site-packages\\sklearn\\linear_model\\_coordinate_descent.py:617: ConvergenceWarning: Objective did not converge. You might want to increase the number of iterations. Duality gap: 0.4251797360530065, tolerance: 0.0051470558908321955\n",
      "  model = cd_fast.enet_coordinate_descent_gram(\n",
      "c:\\Users\\Eduardo\\AppData\\Local\\Programs\\Python\\Python310\\lib\\site-packages\\sklearn\\linear_model\\_coordinate_descent.py:617: ConvergenceWarning: Objective did not converge. You might want to increase the number of iterations. Duality gap: 0.5760803299648498, tolerance: 0.0049719190079918684\n",
      "  model = cd_fast.enet_coordinate_descent_gram(\n",
      "c:\\Users\\Eduardo\\AppData\\Local\\Programs\\Python\\Python310\\lib\\site-packages\\sklearn\\linear_model\\_coordinate_descent.py:617: ConvergenceWarning: Objective did not converge. You might want to increase the number of iterations. Duality gap: 0.47573695492066004, tolerance: 0.0049719190079918684\n",
      "  model = cd_fast.enet_coordinate_descent_gram(\n",
      "c:\\Users\\Eduardo\\AppData\\Local\\Programs\\Python\\Python310\\lib\\site-packages\\sklearn\\linear_model\\_coordinate_descent.py:617: ConvergenceWarning: Objective did not converge. You might want to increase the number of iterations. Duality gap: 0.18321752701503513, tolerance: 0.0049719190079918684\n",
      "  model = cd_fast.enet_coordinate_descent_gram(\n",
      "c:\\Users\\Eduardo\\AppData\\Local\\Programs\\Python\\Python310\\lib\\site-packages\\sklearn\\linear_model\\_coordinate_descent.py:617: ConvergenceWarning: Objective did not converge. You might want to increase the number of iterations. Duality gap: 1.0350675244214602, tolerance: 0.005068540865318052\n",
      "  model = cd_fast.enet_coordinate_descent_gram(\n",
      "c:\\Users\\Eduardo\\AppData\\Local\\Programs\\Python\\Python310\\lib\\site-packages\\sklearn\\linear_model\\_coordinate_descent.py:617: ConvergenceWarning: Objective did not converge. You might want to increase the number of iterations. Duality gap: 0.579801719269355, tolerance: 0.005068540865318052\n",
      "  model = cd_fast.enet_coordinate_descent_gram(\n",
      "c:\\Users\\Eduardo\\AppData\\Local\\Programs\\Python\\Python310\\lib\\site-packages\\sklearn\\linear_model\\_coordinate_descent.py:617: ConvergenceWarning: Objective did not converge. You might want to increase the number of iterations. Duality gap: 0.4793926160638471, tolerance: 0.005068540865318052\n",
      "  model = cd_fast.enet_coordinate_descent_gram(\n",
      "c:\\Users\\Eduardo\\AppData\\Local\\Programs\\Python\\Python310\\lib\\site-packages\\sklearn\\linear_model\\_coordinate_descent.py:617: ConvergenceWarning: Objective did not converge. You might want to increase the number of iterations. Duality gap: 1.4742568897981643, tolerance: 0.005068540865318052\n",
      "  model = cd_fast.enet_coordinate_descent_gram(\n",
      "c:\\Users\\Eduardo\\AppData\\Local\\Programs\\Python\\Python310\\lib\\site-packages\\sklearn\\linear_model\\_coordinate_descent.py:617: ConvergenceWarning: Objective did not converge. You might want to increase the number of iterations. Duality gap: 1.0091364014016186, tolerance: 0.005071885901066959\n",
      "  model = cd_fast.enet_coordinate_descent_gram(\n",
      "c:\\Users\\Eduardo\\AppData\\Local\\Programs\\Python\\Python310\\lib\\site-packages\\sklearn\\linear_model\\_coordinate_descent.py:617: ConvergenceWarning: Objective did not converge. You might want to increase the number of iterations. Duality gap: 0.5663384587829059, tolerance: 0.005071885901066959\n",
      "  model = cd_fast.enet_coordinate_descent_gram(\n",
      "c:\\Users\\Eduardo\\AppData\\Local\\Programs\\Python\\Python310\\lib\\site-packages\\sklearn\\linear_model\\_coordinate_descent.py:617: ConvergenceWarning: Objective did not converge. You might want to increase the number of iterations. Duality gap: 0.3026216183726933, tolerance: 0.005071885901066959\n",
      "  model = cd_fast.enet_coordinate_descent_gram(\n",
      "c:\\Users\\Eduardo\\AppData\\Local\\Programs\\Python\\Python310\\lib\\site-packages\\sklearn\\linear_model\\_coordinate_descent.py:617: ConvergenceWarning: Objective did not converge. You might want to increase the number of iterations. Duality gap: 0.2903383978366598, tolerance: 0.005071885901066959\n",
      "  model = cd_fast.enet_coordinate_descent_gram(\n",
      "c:\\Users\\Eduardo\\AppData\\Local\\Programs\\Python\\Python310\\lib\\site-packages\\sklearn\\linear_model\\_coordinate_descent.py:617: ConvergenceWarning: Objective did not converge. You might want to increase the number of iterations. Duality gap: 0.9776570922334828, tolerance: 0.005070572936002261\n",
      "  model = cd_fast.enet_coordinate_descent_gram(\n",
      "c:\\Users\\Eduardo\\AppData\\Local\\Programs\\Python\\Python310\\lib\\site-packages\\sklearn\\linear_model\\_coordinate_descent.py:617: ConvergenceWarning: Objective did not converge. You might want to increase the number of iterations. Duality gap: 0.5317822950265547, tolerance: 0.005070572936002261\n",
      "  model = cd_fast.enet_coordinate_descent_gram(\n",
      "c:\\Users\\Eduardo\\AppData\\Local\\Programs\\Python\\Python310\\lib\\site-packages\\sklearn\\linear_model\\_coordinate_descent.py:617: ConvergenceWarning: Objective did not converge. You might want to increase the number of iterations. Duality gap: 0.4427503950084515, tolerance: 0.005070572936002261\n",
      "  model = cd_fast.enet_coordinate_descent_gram(\n",
      "c:\\Users\\Eduardo\\AppData\\Local\\Programs\\Python\\Python310\\lib\\site-packages\\sklearn\\linear_model\\_coordinate_descent.py:617: ConvergenceWarning: Objective did not converge. You might want to increase the number of iterations. Duality gap: 0.40000502245511393, tolerance: 0.005070572936002261\n",
      "  model = cd_fast.enet_coordinate_descent_gram(\n"
     ]
    },
    {
     "name": "stdout",
     "output_type": "stream",
     "text": [
      "Melhor alpha: 0.0001\n",
      "Melhor l1_ratio: 0.7\n",
      "RMSE no conjunto de teste: 0.06185559951127293\n",
      "R^2 no conjunto de teste: 0.8775403470403961\n"
     ]
    }
   ],
   "source": [
    "def train_elasticnet(X_train, y_train, alphas, l1_ratios, cv=5):\n",
    "    \"\"\"\n",
    "    Train an ElasticNet model with cross-validation.\n",
    "    \"\"\"\n",
    "    model = ElasticNetCV(alphas=alphas, l1_ratio=l1_ratios, cv=cv)\n",
    "    model.fit(X_train, y_train)\n",
    "    return model\n",
    "\n",
    "def evaluate_model(model, X_test, y_test):\n",
    "    \"\"\"\n",
    "    Evaluate the model and return RMSE and R^2.\n",
    "    \"\"\"\n",
    "    y_pred = model.predict(X_test)\n",
    "    rmse = np.sqrt(mean_squared_error(y_test, y_pred))\n",
    "    r2 = r2_score(y_test, y_pred)\n",
    "    return rmse, r2\n",
    "\n",
    "def print_results(model, rmse, r2):\n",
    "    \"\"\"\n",
    "    Print the evaluation results.\n",
    "    \"\"\"\n",
    "    print(f\"Melhor alpha: {model.alpha_}\")\n",
    "    print(f\"Melhor l1_ratio: {model.l1_ratio_}\")\n",
    "    print(f\"RMSE no conjunto de teste: {rmse}\")\n",
    "    print(f\"R^2 no conjunto de teste: {r2}\")\n",
    "\n",
    "# Definindo os possíveis valores para os hiperparâmetros\n",
    "alphas = np.logspace(-6, 6, 13)\n",
    "l1_ratios = [0.1, 0.3, 0.5, 0.7, 0.9]\n",
    "\n",
    "# Treinando o modelo\n",
    "elasticnet_model = train_elasticnet(X_train, y_train, alphas, l1_ratios)\n",
    "\n",
    "# Avaliando o modelo\n",
    "rmse, r2 = evaluate_model(elasticnet_model, X_test, y_test)\n",
    "\n",
    "# Imprimindo os resultados\n",
    "print_results(elasticnet_model, rmse, r2)"
   ]
  },
  {
   "attachments": {},
   "cell_type": "markdown",
   "metadata": {},
   "source": [
    "O Elastic Net foi escolhido como o melhor modelo para a análise acima por ser uma combinação entre a regressão Ridge e a regressão Lasso. Ele possui a capacidade de lidar com a multicolinearidade dos dados, como a regressão Ridge, e também a capacidade de realizar seleção de variáveis, como a regressão Lasso. Além disso, o Elastic Net permite ajustar a proporção entre as duas penalidades (L1 e L2) através do hiperparâmetro l1_ratio, o que o torna um modelo flexível e adaptável a diferentes situações. Portanto, o Elastic Net é uma escolha adequada para a análise realizada."
   ]
  }
 ],
 "metadata": {
  "kernelspec": {
   "display_name": "Python 3",
   "language": "python",
   "name": "python3"
  },
  "language_info": {
   "codemirror_mode": {
    "name": "ipython",
    "version": 3
   },
   "file_extension": ".py",
   "mimetype": "text/x-python",
   "name": "python",
   "nbconvert_exporter": "python",
   "pygments_lexer": "ipython3",
   "version": "3.10.2"
  },
  "orig_nbformat": 4
 },
 "nbformat": 4,
 "nbformat_minor": 2
}
