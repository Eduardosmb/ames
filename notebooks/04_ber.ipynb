{
 "cells": [
  {
   "cell_type": "code",
   "execution_count": 38,
   "metadata": {},
   "outputs": [],
   "source": [
    "import pickle\n",
    "import pathlib\n",
    "\n",
    "import numpy as np\n",
    "import pandas as pd"
   ]
  },
  {
   "cell_type": "code",
   "execution_count": 39,
   "metadata": {},
   "outputs": [
    {
     "name": "stdout",
     "output_type": "stream",
     "text": [
      "c:\\Users\\Eduardo\\Desktop\\Insper\\4 semestre\\ml\\Projeto-ML\\ames\\data\n"
     ]
    }
   ],
   "source": [
    "DATA_DIR = pathlib.Path.cwd().parent / 'data'\n",
    "print(DATA_DIR)"
   ]
  },
  {
   "cell_type": "code",
   "execution_count": 40,
   "metadata": {},
   "outputs": [],
   "source": [
    "clean_data_path = DATA_DIR / 'processed' / 'ames_clean.pkl'"
   ]
  },
  {
   "cell_type": "code",
   "execution_count": 41,
   "metadata": {},
   "outputs": [],
   "source": [
    "with open(clean_data_path, 'rb') as file:\n",
    "    data = pickle.load(file)"
   ]
  },
  {
   "cell_type": "code",
   "execution_count": 42,
   "metadata": {},
   "outputs": [],
   "source": [
    "model_data = data.copy()"
   ]
  },
  {
   "cell_type": "code",
   "execution_count": 43,
   "metadata": {},
   "outputs": [],
   "source": [
    "categorical_columns = []\n",
    "ordinal_columns = []\n",
    "for col in model_data.select_dtypes('category').columns:\n",
    "    if model_data[col].cat.ordered:\n",
    "        ordinal_columns.append(col)\n",
    "    else:\n",
    "        categorical_columns.append(col)"
   ]
  },
  {
   "cell_type": "code",
   "execution_count": 44,
   "metadata": {},
   "outputs": [
    {
     "data": {
      "text/plain": [
       "['Lot.Shape',\n",
       " 'Land.Slope',\n",
       " 'Overall.Qual',\n",
       " 'Overall.Cond',\n",
       " 'Exter.Qual',\n",
       " 'Exter.Cond',\n",
       " 'Heating.QC',\n",
       " 'Electrical',\n",
       " 'Kitchen.Qual',\n",
       " 'Functional',\n",
       " 'Paved.Drive',\n",
       " 'Fence']"
      ]
     },
     "execution_count": 44,
     "metadata": {},
     "output_type": "execute_result"
    }
   ],
   "source": [
    "ordinal_columns"
   ]
  },
  {
   "cell_type": "code",
   "execution_count": 45,
   "metadata": {},
   "outputs": [
    {
     "data": {
      "text/plain": [
       "['MS.SubClass',\n",
       " 'MS.Zoning',\n",
       " 'Land.Contour',\n",
       " 'Lot.Config',\n",
       " 'Neighborhood',\n",
       " 'Bldg.Type',\n",
       " 'House.Style',\n",
       " 'Roof.Style',\n",
       " 'Mas.Vnr.Type',\n",
       " 'Foundation',\n",
       " 'Bsmt.Qual',\n",
       " 'Bsmt.Cond',\n",
       " 'Bsmt.Exposure',\n",
       " 'BsmtFin.Type.1',\n",
       " 'BsmtFin.Type.2',\n",
       " 'Central.Air',\n",
       " 'Garage.Type',\n",
       " 'Garage.Finish',\n",
       " 'Sale.Type',\n",
       " 'Sale.Condition',\n",
       " 'Condition',\n",
       " 'Exterior']"
      ]
     },
     "execution_count": 45,
     "metadata": {},
     "output_type": "execute_result"
    }
   ],
   "source": [
    "categorical_columns"
   ]
  },
  {
   "cell_type": "code",
   "execution_count": 46,
   "metadata": {},
   "outputs": [],
   "source": [
    "for col in ordinal_columns:\n",
    "    codes, _ = pd.factorize(data[col], sort=True)\n",
    "    model_data[col] = codes"
   ]
  },
  {
   "cell_type": "code",
   "execution_count": 47,
   "metadata": {},
   "outputs": [
    {
     "name": "stdout",
     "output_type": "stream",
     "text": [
      "<class 'pandas.core.frame.DataFrame'>\n",
      "Int64Index: 2877 entries, 0 to 2929\n",
      "Data columns (total 12 columns):\n",
      " #   Column        Non-Null Count  Dtype\n",
      "---  ------        --------------  -----\n",
      " 0   Lot.Shape     2877 non-null   int64\n",
      " 1   Land.Slope    2877 non-null   int64\n",
      " 2   Overall.Qual  2877 non-null   int64\n",
      " 3   Overall.Cond  2877 non-null   int64\n",
      " 4   Exter.Qual    2877 non-null   int64\n",
      " 5   Exter.Cond    2877 non-null   int64\n",
      " 6   Heating.QC    2877 non-null   int64\n",
      " 7   Electrical    2877 non-null   int64\n",
      " 8   Kitchen.Qual  2877 non-null   int64\n",
      " 9   Functional    2877 non-null   int64\n",
      " 10  Paved.Drive   2877 non-null   int64\n",
      " 11  Fence         2877 non-null   int64\n",
      "dtypes: int64(12)\n",
      "memory usage: 292.2 KB\n"
     ]
    }
   ],
   "source": [
    "model_data[ordinal_columns].info()"
   ]
  },
  {
   "cell_type": "code",
   "execution_count": 48,
   "metadata": {},
   "outputs": [
    {
     "data": {
      "text/plain": [
       "Reg    1825\n",
       "IR1     960\n",
       "IR2      76\n",
       "IR3      16\n",
       "Name: Lot.Shape, dtype: int64"
      ]
     },
     "execution_count": 48,
     "metadata": {},
     "output_type": "execute_result"
    }
   ],
   "source": [
    "data['Lot.Shape'].value_counts()"
   ]
  },
  {
   "cell_type": "code",
   "execution_count": 49,
   "metadata": {},
   "outputs": [
    {
     "data": {
      "text/plain": [
       "0    1825\n",
       "1     960\n",
       "2      76\n",
       "3      16\n",
       "Name: Lot.Shape, dtype: int64"
      ]
     },
     "execution_count": 49,
     "metadata": {},
     "output_type": "execute_result"
    }
   ],
   "source": [
    "model_data['Lot.Shape'].value_counts()"
   ]
  },
  {
   "cell_type": "code",
   "execution_count": 50,
   "metadata": {},
   "outputs": [
    {
     "data": {
      "text/plain": [
       "VinylSd    1024\n",
       "HdBoard     439\n",
       "MetalSd     432\n",
       "Wd Sdng     401\n",
       "Plywood     218\n",
       "CemntBd     126\n",
       "BrkFace      86\n",
       "WdShing      55\n",
       "Stucco       42\n",
       "AsbShng      41\n",
       "Other        13\n",
       "Name: Exterior, dtype: int64"
      ]
     },
     "execution_count": 50,
     "metadata": {},
     "output_type": "execute_result"
    }
   ],
   "source": [
    "model_data['Exterior'].value_counts()"
   ]
  },
  {
   "cell_type": "code",
   "execution_count": 51,
   "metadata": {},
   "outputs": [
    {
     "data": {
      "text/html": [
       "<div>\n",
       "<style scoped>\n",
       "    .dataframe tbody tr th:only-of-type {\n",
       "        vertical-align: middle;\n",
       "    }\n",
       "\n",
       "    .dataframe tbody tr th {\n",
       "        vertical-align: top;\n",
       "    }\n",
       "\n",
       "    .dataframe thead th {\n",
       "        text-align: right;\n",
       "    }\n",
       "</style>\n",
       "<table border=\"1\" class=\"dataframe\">\n",
       "  <thead>\n",
       "    <tr style=\"text-align: right;\">\n",
       "      <th></th>\n",
       "      <th>0</th>\n",
       "      <th>1</th>\n",
       "      <th>2</th>\n",
       "      <th>3</th>\n",
       "      <th>4</th>\n",
       "    </tr>\n",
       "  </thead>\n",
       "  <tbody>\n",
       "    <tr>\n",
       "      <th>AsbShng</th>\n",
       "      <td>0</td>\n",
       "      <td>0</td>\n",
       "      <td>0</td>\n",
       "      <td>0</td>\n",
       "      <td>0</td>\n",
       "    </tr>\n",
       "    <tr>\n",
       "      <th>BrkFace</th>\n",
       "      <td>1</td>\n",
       "      <td>0</td>\n",
       "      <td>0</td>\n",
       "      <td>1</td>\n",
       "      <td>0</td>\n",
       "    </tr>\n",
       "    <tr>\n",
       "      <th>CemntBd</th>\n",
       "      <td>0</td>\n",
       "      <td>0</td>\n",
       "      <td>0</td>\n",
       "      <td>0</td>\n",
       "      <td>0</td>\n",
       "    </tr>\n",
       "    <tr>\n",
       "      <th>HdBoard</th>\n",
       "      <td>0</td>\n",
       "      <td>0</td>\n",
       "      <td>0</td>\n",
       "      <td>0</td>\n",
       "      <td>0</td>\n",
       "    </tr>\n",
       "    <tr>\n",
       "      <th>MetalSd</th>\n",
       "      <td>0</td>\n",
       "      <td>0</td>\n",
       "      <td>0</td>\n",
       "      <td>0</td>\n",
       "      <td>0</td>\n",
       "    </tr>\n",
       "    <tr>\n",
       "      <th>Plywood</th>\n",
       "      <td>0</td>\n",
       "      <td>0</td>\n",
       "      <td>0</td>\n",
       "      <td>0</td>\n",
       "      <td>0</td>\n",
       "    </tr>\n",
       "    <tr>\n",
       "      <th>Stucco</th>\n",
       "      <td>0</td>\n",
       "      <td>0</td>\n",
       "      <td>0</td>\n",
       "      <td>0</td>\n",
       "      <td>0</td>\n",
       "    </tr>\n",
       "    <tr>\n",
       "      <th>VinylSd</th>\n",
       "      <td>0</td>\n",
       "      <td>1</td>\n",
       "      <td>0</td>\n",
       "      <td>0</td>\n",
       "      <td>1</td>\n",
       "    </tr>\n",
       "    <tr>\n",
       "      <th>Wd Sdng</th>\n",
       "      <td>0</td>\n",
       "      <td>0</td>\n",
       "      <td>1</td>\n",
       "      <td>0</td>\n",
       "      <td>0</td>\n",
       "    </tr>\n",
       "    <tr>\n",
       "      <th>WdShing</th>\n",
       "      <td>0</td>\n",
       "      <td>0</td>\n",
       "      <td>0</td>\n",
       "      <td>0</td>\n",
       "      <td>0</td>\n",
       "    </tr>\n",
       "    <tr>\n",
       "      <th>Other</th>\n",
       "      <td>0</td>\n",
       "      <td>0</td>\n",
       "      <td>0</td>\n",
       "      <td>0</td>\n",
       "      <td>0</td>\n",
       "    </tr>\n",
       "    <tr>\n",
       "      <th>Exterior</th>\n",
       "      <td>BrkFace</td>\n",
       "      <td>VinylSd</td>\n",
       "      <td>Wd Sdng</td>\n",
       "      <td>BrkFace</td>\n",
       "      <td>VinylSd</td>\n",
       "    </tr>\n",
       "  </tbody>\n",
       "</table>\n",
       "</div>"
      ],
      "text/plain": [
       "                0        1        2        3        4\n",
       "AsbShng         0        0        0        0        0\n",
       "BrkFace         1        0        0        1        0\n",
       "CemntBd         0        0        0        0        0\n",
       "HdBoard         0        0        0        0        0\n",
       "MetalSd         0        0        0        0        0\n",
       "Plywood         0        0        0        0        0\n",
       "Stucco          0        0        0        0        0\n",
       "VinylSd         0        1        0        0        1\n",
       "Wd Sdng         0        0        1        0        0\n",
       "WdShing         0        0        0        0        0\n",
       "Other           0        0        0        0        0\n",
       "Exterior  BrkFace  VinylSd  Wd Sdng  BrkFace  VinylSd"
      ]
     },
     "execution_count": 51,
     "metadata": {},
     "output_type": "execute_result"
    }
   ],
   "source": [
    "original_data = model_data['Exterior']\n",
    "encoded_data = pd.get_dummies(original_data)\n",
    "\n",
    "aux_dataframe = encoded_data\n",
    "aux_dataframe['Exterior'] = original_data.copy()\n",
    "\n",
    "aux_dataframe.head().transpose()"
   ]
  },
  {
   "cell_type": "code",
   "execution_count": 52,
   "metadata": {},
   "outputs": [
    {
     "data": {
      "text/html": [
       "<div>\n",
       "<style scoped>\n",
       "    .dataframe tbody tr th:only-of-type {\n",
       "        vertical-align: middle;\n",
       "    }\n",
       "\n",
       "    .dataframe tbody tr th {\n",
       "        vertical-align: top;\n",
       "    }\n",
       "\n",
       "    .dataframe thead th {\n",
       "        text-align: right;\n",
       "    }\n",
       "</style>\n",
       "<table border=\"1\" class=\"dataframe\">\n",
       "  <thead>\n",
       "    <tr style=\"text-align: right;\">\n",
       "      <th></th>\n",
       "      <th>0</th>\n",
       "      <th>1</th>\n",
       "      <th>2</th>\n",
       "      <th>3</th>\n",
       "      <th>4</th>\n",
       "    </tr>\n",
       "  </thead>\n",
       "  <tbody>\n",
       "    <tr>\n",
       "      <th>BrkFace</th>\n",
       "      <td>1</td>\n",
       "      <td>0</td>\n",
       "      <td>0</td>\n",
       "      <td>1</td>\n",
       "      <td>0</td>\n",
       "    </tr>\n",
       "    <tr>\n",
       "      <th>CemntBd</th>\n",
       "      <td>0</td>\n",
       "      <td>0</td>\n",
       "      <td>0</td>\n",
       "      <td>0</td>\n",
       "      <td>0</td>\n",
       "    </tr>\n",
       "    <tr>\n",
       "      <th>HdBoard</th>\n",
       "      <td>0</td>\n",
       "      <td>0</td>\n",
       "      <td>0</td>\n",
       "      <td>0</td>\n",
       "      <td>0</td>\n",
       "    </tr>\n",
       "    <tr>\n",
       "      <th>MetalSd</th>\n",
       "      <td>0</td>\n",
       "      <td>0</td>\n",
       "      <td>0</td>\n",
       "      <td>0</td>\n",
       "      <td>0</td>\n",
       "    </tr>\n",
       "    <tr>\n",
       "      <th>Plywood</th>\n",
       "      <td>0</td>\n",
       "      <td>0</td>\n",
       "      <td>0</td>\n",
       "      <td>0</td>\n",
       "      <td>0</td>\n",
       "    </tr>\n",
       "    <tr>\n",
       "      <th>Stucco</th>\n",
       "      <td>0</td>\n",
       "      <td>0</td>\n",
       "      <td>0</td>\n",
       "      <td>0</td>\n",
       "      <td>0</td>\n",
       "    </tr>\n",
       "    <tr>\n",
       "      <th>VinylSd</th>\n",
       "      <td>0</td>\n",
       "      <td>1</td>\n",
       "      <td>0</td>\n",
       "      <td>0</td>\n",
       "      <td>1</td>\n",
       "    </tr>\n",
       "    <tr>\n",
       "      <th>Wd Sdng</th>\n",
       "      <td>0</td>\n",
       "      <td>0</td>\n",
       "      <td>1</td>\n",
       "      <td>0</td>\n",
       "      <td>0</td>\n",
       "    </tr>\n",
       "    <tr>\n",
       "      <th>WdShing</th>\n",
       "      <td>0</td>\n",
       "      <td>0</td>\n",
       "      <td>0</td>\n",
       "      <td>0</td>\n",
       "      <td>0</td>\n",
       "    </tr>\n",
       "    <tr>\n",
       "      <th>Other</th>\n",
       "      <td>0</td>\n",
       "      <td>0</td>\n",
       "      <td>0</td>\n",
       "      <td>0</td>\n",
       "      <td>0</td>\n",
       "    </tr>\n",
       "    <tr>\n",
       "      <th>Exterior</th>\n",
       "      <td>BrkFace</td>\n",
       "      <td>VinylSd</td>\n",
       "      <td>Wd Sdng</td>\n",
       "      <td>BrkFace</td>\n",
       "      <td>VinylSd</td>\n",
       "    </tr>\n",
       "  </tbody>\n",
       "</table>\n",
       "</div>"
      ],
      "text/plain": [
       "                0        1        2        3        4\n",
       "BrkFace         1        0        0        1        0\n",
       "CemntBd         0        0        0        0        0\n",
       "HdBoard         0        0        0        0        0\n",
       "MetalSd         0        0        0        0        0\n",
       "Plywood         0        0        0        0        0\n",
       "Stucco          0        0        0        0        0\n",
       "VinylSd         0        1        0        0        1\n",
       "Wd Sdng         0        0        1        0        0\n",
       "WdShing         0        0        0        0        0\n",
       "Other           0        0        0        0        0\n",
       "Exterior  BrkFace  VinylSd  Wd Sdng  BrkFace  VinylSd"
      ]
     },
     "execution_count": 52,
     "metadata": {},
     "output_type": "execute_result"
    }
   ],
   "source": [
    "original_data = model_data['Exterior']\n",
    "encoded_data = pd.get_dummies(original_data, drop_first=True)\n",
    "\n",
    "aux_dataframe = encoded_data\n",
    "aux_dataframe['Exterior'] = original_data.copy()\n",
    "\n",
    "aux_dataframe.head().transpose()"
   ]
  },
  {
   "cell_type": "code",
   "execution_count": 53,
   "metadata": {},
   "outputs": [],
   "source": [
    "model_data = pd.get_dummies(model_data, drop_first=True)"
   ]
  },
  {
   "cell_type": "code",
   "execution_count": 54,
   "metadata": {},
   "outputs": [
    {
     "name": "stdout",
     "output_type": "stream",
     "text": [
      "<class 'pandas.core.frame.DataFrame'>\n",
      "Int64Index: 2877 entries, 0 to 2929\n",
      "Columns: 165 entries, Lot.Frontage to Exterior_Other\n",
      "dtypes: bool(2), float64(34), int64(12), uint8(117)\n",
      "memory usage: 1.4 MB\n"
     ]
    }
   ],
   "source": [
    "model_data.info()"
   ]
  },
  {
   "cell_type": "code",
   "execution_count": 55,
   "metadata": {},
   "outputs": [
    {
     "name": "stdout",
     "output_type": "stream",
     "text": [
      "From column \"MS.SubClass\" we made \"MS.SubClass_30\", \"MS.SubClass_50\", \"MS.SubClass_60\", \"MS.SubClass_70\", \"MS.SubClass_80\", \"MS.SubClass_85\", \"MS.SubClass_90\", \"MS.SubClass_120\", \"MS.SubClass_160\", \"MS.SubClass_190\", \"MS.SubClass_Other\"\n",
      "\n",
      "From column \"MS.Zoning\" we made \"MS.Zoning_RH\", \"MS.Zoning_RL\", \"MS.Zoning_RM\"\n",
      "\n",
      "From column \"Land.Contour\" we made \"Land.Contour_HLS\", \"Land.Contour_Low\", \"Land.Contour_Lvl\"\n",
      "\n",
      "From column \"Lot.Config\" we made \"Lot.Config_CulDSac\", \"Lot.Config_FR2\", \"Lot.Config_FR3\", \"Lot.Config_Inside\"\n",
      "\n",
      "From column \"Neighborhood\" we made \"Neighborhood_BrDale\", \"Neighborhood_BrkSide\", \"Neighborhood_ClearCr\", \"Neighborhood_CollgCr\", \"Neighborhood_Crawfor\", \"Neighborhood_Edwards\", \"Neighborhood_Gilbert\", \"Neighborhood_IDOTRR\", \"Neighborhood_MeadowV\", \"Neighborhood_Mitchel\", \"Neighborhood_NAmes\", \"Neighborhood_NPkVill\", \"Neighborhood_NWAmes\", \"Neighborhood_NoRidge\", \"Neighborhood_NridgHt\", \"Neighborhood_OldTown\", \"Neighborhood_SWISU\", \"Neighborhood_Sawyer\", \"Neighborhood_SawyerW\", \"Neighborhood_Somerst\", \"Neighborhood_StoneBr\", \"Neighborhood_Timber\", \"Neighborhood_Veenker\"\n",
      "\n",
      "From column \"Bldg.Type\" we made \"Bldg.Type_2fmCon\", \"Bldg.Type_Duplex\", \"Bldg.Type_Twnhs\", \"Bldg.Type_TwnhsE\"\n",
      "\n",
      "From column \"House.Style\" we made \"House.Style_1.5Unf\", \"House.Style_1Story\", \"House.Style_2.5Fin\", \"House.Style_2.5Unf\", \"House.Style_2Story\", \"House.Style_SFoyer\", \"House.Style_SLvl\"\n",
      "\n",
      "From column \"Roof.Style\" we made \"Roof.Style_Hip\", \"Roof.Style_Other\"\n",
      "\n",
      "From column \"Mas.Vnr.Type\" we made \"Mas.Vnr.Type_None\", \"Mas.Vnr.Type_Stone\", \"Mas.Vnr.Type_Other\"\n",
      "\n",
      "From column \"Foundation\" we made \"Foundation_CBlock\", \"Foundation_PConc\", \"Foundation_Other\"\n",
      "\n",
      "From column \"Bsmt.Qual\" we made \"Bsmt.Qual_Gd\", \"Bsmt.Qual_TA\", \"Bsmt.Qual_Fa\", \"Bsmt.Qual_NA\"\n",
      "\n",
      "From column \"Bsmt.Cond\" we made \"Bsmt.Cond_TA\", \"Bsmt.Cond_Fa\", \"Bsmt.Cond_NA\"\n",
      "\n",
      "From column \"Bsmt.Exposure\" we made \"Bsmt.Exposure_Av\", \"Bsmt.Exposure_Mn\", \"Bsmt.Exposure_No\", \"Bsmt.Exposure_NA\"\n",
      "\n",
      "From column \"BsmtFin.Type.1\" we made \"BsmtFin.Type.1_ALQ\", \"BsmtFin.Type.1_BLQ\", \"BsmtFin.Type.1_Rec\", \"BsmtFin.Type.1_LwQ\", \"BsmtFin.Type.1_Unf\", \"BsmtFin.Type.1_NA\"\n",
      "\n",
      "From column \"BsmtFin.Type.2\" we made \"BsmtFin.Type.2_ALQ\", \"BsmtFin.Type.2_BLQ\", \"BsmtFin.Type.2_Rec\", \"BsmtFin.Type.2_LwQ\", \"BsmtFin.Type.2_Unf\", \"BsmtFin.Type.2_NA\"\n",
      "\n",
      "From column \"Central.Air\" we made \"Central.Air_Y\"\n",
      "\n",
      "From column \"Garage.Type\" we made \"Garage.Type_Attchd\", \"Garage.Type_Basment\", \"Garage.Type_BuiltIn\", \"Garage.Type_CarPort\", \"Garage.Type_Detchd\", \"Garage.Type_NoGarage\"\n",
      "\n",
      "From column \"Garage.Finish\" we made \"Garage.Finish_RFn\", \"Garage.Finish_Unf\", \"Garage.Finish_NoGarage\"\n",
      "\n",
      "From column \"Sale.Type\" we made \"Sale.Type_GroupedWD\", \"Sale.Type_Other\"\n",
      "\n",
      "From column \"Sale.Condition\" we made \"Sale.Condition_AdjLand\", \"Sale.Condition_Alloca\", \"Sale.Condition_Family\", \"Sale.Condition_Normal\", \"Sale.Condition_Partial\"\n",
      "\n",
      "From column \"Condition\" we made \"Condition_Railroad\", \"Condition_Roads\", \"Condition_Positive\", \"Condition_RoadsAndRailroad\"\n",
      "\n",
      "From column \"Exterior\" we made \"Exterior_BrkFace\", \"Exterior_CemntBd\", \"Exterior_HdBoard\", \"Exterior_MetalSd\", \"Exterior_Plywood\", \"Exterior_Stucco\", \"Exterior_VinylSd\", \"Exterior_Wd Sdng\", \"Exterior_WdShing\", \"Exterior_Other\"\n",
      "\n"
     ]
    }
   ],
   "source": [
    "for cat in categorical_columns:\n",
    "    dummies = []\n",
    "    for col in model_data.columns:\n",
    "        if col.startswith(cat + \"_\"):\n",
    "            dummies.append(f'\"{col}\"')\n",
    "    dummies_str = ', '.join(dummies)\n",
    "    print(f'From column \"{cat}\" we made {dummies_str}\\n')"
   ]
  },
  {
   "cell_type": "code",
   "execution_count": 56,
   "metadata": {},
   "outputs": [],
   "source": [
    "X = model_data.drop(columns=['SalePrice']).copy()\n",
    "y = model_data['SalePrice'].copy()"
   ]
  },
  {
   "cell_type": "code",
   "execution_count": 57,
   "metadata": {},
   "outputs": [
    {
     "data": {
      "text/plain": [
       "(array([[141.0, 31770.0, 1, ..., 0, 0, 0],\n",
       "        [80.0, 11622.0, 0, ..., 0, 0, 0],\n",
       "        [81.0, 14267.0, 1, ..., 1, 0, 0],\n",
       "        ...,\n",
       "        [62.0, 10441.0, 0, ..., 0, 0, 0],\n",
       "        [77.0, 10010.0, 0, ..., 0, 0, 0],\n",
       "        [74.0, 9627.0, 0, ..., 0, 0, 0]], dtype=object),\n",
       " array([5.33243846, 5.0211893 , 5.23552845, ..., 5.12057393, 5.23044892,\n",
       "        5.27415785]))"
      ]
     },
     "execution_count": 57,
     "metadata": {},
     "output_type": "execute_result"
    }
   ],
   "source": [
    "X.values, y.values"
   ]
  },
  {
   "cell_type": "code",
   "execution_count": 58,
   "metadata": {},
   "outputs": [],
   "source": [
    "from sklearn.model_selection import train_test_split"
   ]
  },
  {
   "cell_type": "code",
   "execution_count": 59,
   "metadata": {},
   "outputs": [],
   "source": [
    "RANDOM_SEED = 42  # Any number here, really."
   ]
  },
  {
   "cell_type": "code",
   "execution_count": 60,
   "metadata": {},
   "outputs": [],
   "source": [
    "Xtrain, Xtest, ytrain, ytest = train_test_split(\n",
    "    X,\n",
    "    y,\n",
    "    test_size=0.25,\n",
    "    random_state=RANDOM_SEED,\n",
    ")\n"
   ]
  },
  {
   "cell_type": "markdown",
   "metadata": {},
   "source": [
    "Abaixo esta uma regressão linear básica apeans com oque o professor fez nos notebooks anteriores, sem nenhuma alteração."
   ]
  },
  {
   "cell_type": "code",
   "execution_count": 61,
   "metadata": {},
   "outputs": [
    {
     "name": "stdout",
     "output_type": "stream",
     "text": [
      "Average error is 15.11%\n"
     ]
    }
   ],
   "source": [
    "from sklearn.linear_model import LinearRegression\n",
    "from sklearn.metrics import mean_squared_error\n",
    "\n",
    "model = LinearRegression()\n",
    "\n",
    "model.fit(Xtrain, ytrain)\n",
    "ypred = model.predict(Xtest)\n",
    "\n",
    "RMSE = np.sqrt(mean_squared_error(ytest, ypred))\n",
    "error_percent = 100 * (10**RMSE - 1)\n",
    "print(f'Average error is {error_percent:.2f}%')"
   ]
  }
 ],
 "metadata": {
  "kernelspec": {
   "display_name": "Python 3",
   "language": "python",
   "name": "python3"
  },
  "language_info": {
   "codemirror_mode": {
    "name": "ipython",
    "version": 3
   },
   "file_extension": ".py",
   "mimetype": "text/x-python",
   "name": "python",
   "nbconvert_exporter": "python",
   "pygments_lexer": "ipython3",
   "version": "3.10.2"
  },
  "orig_nbformat": 4
 },
 "nbformat": 4,
 "nbformat_minor": 2
}
